{
  "cells": [
    {
      "cell_type": "markdown",
      "metadata": {
        "id": "nn62pnOwbP94"
      },
      "source": [
        "# **CITY BIKE PROJECT - 2025**"
      ]
    },
    {
      "cell_type": "code",
      "source": [
        "# Step 2: Setup\n",
        "import os\n",
        "import pandas as pd"
      ],
      "metadata": {
        "id": "T3bRl0mHtWEH"
      },
      "execution_count": 1,
      "outputs": []
    },
    {
      "cell_type": "code",
      "source": [
        "# Step 1: Mount Google Drive\n",
        "from google.colab import drive\n",
        "drive.mount('/content/drive')"
      ],
      "metadata": {
        "colab": {
          "base_uri": "https://localhost:8080/"
        },
        "id": "Fa74EuLctMRz",
        "outputId": "03cd97c1-3ce5-4355-92ff-93782a764a9e"
      },
      "execution_count": 2,
      "outputs": [
        {
          "output_type": "stream",
          "name": "stdout",
          "text": [
            "Mounted at /content/drive\n"
          ]
        }
      ]
    },
    {
      "cell_type": "code",
      "execution_count": null,
      "metadata": {
        "colab": {
          "base_uri": "https://localhost:8080/"
        },
        "id": "E4YoVWEKLVbZ",
        "outputId": "32374e2a-a934-4b15-c83d-694ba3064eec"
      },
      "outputs": [
        {
          "output_type": "stream",
          "name": "stdout",
          "text": [
            "Found 16 CSV files.\n"
          ]
        },
        {
          "output_type": "stream",
          "name": "stderr",
          "text": [
            "/tmp/ipython-input-3-4226862543.py:19: DtypeWarning: Columns (5,7) have mixed types. Specify dtype option on import or set low_memory=False.\n",
            "  df = pd.read_csv(file_path, on_bad_lines='skip')\n"
          ]
        },
        {
          "output_type": "stream",
          "name": "stdout",
          "text": [
            "Loaded: 202501-citibike-tripdata_1.csv → 1000000 rows\n"
          ]
        },
        {
          "output_type": "stream",
          "name": "stderr",
          "text": [
            "/tmp/ipython-input-3-4226862543.py:19: DtypeWarning: Columns (5,7) have mixed types. Specify dtype option on import or set low_memory=False.\n",
            "  df = pd.read_csv(file_path, on_bad_lines='skip')\n"
          ]
        },
        {
          "output_type": "stream",
          "name": "stdout",
          "text": [
            "Loaded: 202501-citibike-tripdata_2.csv → 1000000 rows\n",
            "Loaded: 202501-citibike-tripdata_3.csv → 124475 rows\n"
          ]
        },
        {
          "output_type": "stream",
          "name": "stderr",
          "text": [
            "/tmp/ipython-input-3-4226862543.py:19: DtypeWarning: Columns (5,7) have mixed types. Specify dtype option on import or set low_memory=False.\n",
            "  df = pd.read_csv(file_path, on_bad_lines='skip')\n"
          ]
        },
        {
          "output_type": "stream",
          "name": "stdout",
          "text": [
            "Loaded: 202502-citibike-tripdata_1.csv → 1000000 rows\n"
          ]
        },
        {
          "output_type": "stream",
          "name": "stderr",
          "text": [
            "/tmp/ipython-input-3-4226862543.py:19: DtypeWarning: Columns (5,7) have mixed types. Specify dtype option on import or set low_memory=False.\n",
            "  df = pd.read_csv(file_path, on_bad_lines='skip')\n"
          ]
        },
        {
          "output_type": "stream",
          "name": "stdout",
          "text": [
            "Loaded: 202502-citibike-tripdata_2.csv → 1000000 rows\n",
            "Loaded: 202502-citibike-tripdata_3.csv → 31257 rows\n"
          ]
        },
        {
          "output_type": "stream",
          "name": "stderr",
          "text": [
            "/tmp/ipython-input-3-4226862543.py:19: DtypeWarning: Columns (5,7) have mixed types. Specify dtype option on import or set low_memory=False.\n",
            "  df = pd.read_csv(file_path, on_bad_lines='skip')\n"
          ]
        },
        {
          "output_type": "stream",
          "name": "stdout",
          "text": [
            "Loaded: 202503-citibike-tripdata.csv → 3168271 rows\n"
          ]
        },
        {
          "output_type": "stream",
          "name": "stderr",
          "text": [
            "/tmp/ipython-input-3-4226862543.py:19: DtypeWarning: Columns (5) have mixed types. Specify dtype option on import or set low_memory=False.\n",
            "  df = pd.read_csv(file_path, on_bad_lines='skip')\n"
          ]
        },
        {
          "output_type": "stream",
          "name": "stdout",
          "text": [
            "Loaded: 202504-citibike-tripdata_1.csv → 1000000 rows\n"
          ]
        },
        {
          "output_type": "stream",
          "name": "stderr",
          "text": [
            "/tmp/ipython-input-3-4226862543.py:19: DtypeWarning: Columns (5,7) have mixed types. Specify dtype option on import or set low_memory=False.\n",
            "  df = pd.read_csv(file_path, on_bad_lines='skip')\n"
          ]
        },
        {
          "output_type": "stream",
          "name": "stdout",
          "text": [
            "Loaded: 202504-citibike-tripdata_2.csv → 1000000 rows\n"
          ]
        },
        {
          "output_type": "stream",
          "name": "stderr",
          "text": [
            "/tmp/ipython-input-3-4226862543.py:19: DtypeWarning: Columns (5,7) have mixed types. Specify dtype option on import or set low_memory=False.\n",
            "  df = pd.read_csv(file_path, on_bad_lines='skip')\n"
          ]
        },
        {
          "output_type": "stream",
          "name": "stdout",
          "text": [
            "Loaded: 202504-citibike-tripdata_3.csv → 1000000 rows\n",
            "→ Wrote batch 1 with 10324003 rows\n"
          ]
        },
        {
          "output_type": "stream",
          "name": "stderr",
          "text": [
            "/tmp/ipython-input-3-4226862543.py:19: DtypeWarning: Columns (5,7) have mixed types. Specify dtype option on import or set low_memory=False.\n",
            "  df = pd.read_csv(file_path, on_bad_lines='skip')\n"
          ]
        },
        {
          "output_type": "stream",
          "name": "stdout",
          "text": [
            "Loaded: 202504-citibike-tripdata_4.csv → 724596 rows\n"
          ]
        },
        {
          "output_type": "stream",
          "name": "stderr",
          "text": [
            "/tmp/ipython-input-3-4226862543.py:19: DtypeWarning: Columns (5,7) have mixed types. Specify dtype option on import or set low_memory=False.\n",
            "  df = pd.read_csv(file_path, on_bad_lines='skip')\n"
          ]
        },
        {
          "output_type": "stream",
          "name": "stdout",
          "text": [
            "Loaded: 202505-citibike-tripdata_1.csv → 1000000 rows\n"
          ]
        },
        {
          "output_type": "stream",
          "name": "stderr",
          "text": [
            "/tmp/ipython-input-3-4226862543.py:19: DtypeWarning: Columns (7) have mixed types. Specify dtype option on import or set low_memory=False.\n",
            "  df = pd.read_csv(file_path, on_bad_lines='skip')\n"
          ]
        },
        {
          "output_type": "stream",
          "name": "stdout",
          "text": [
            "Loaded: 202505-citibike-tripdata_2.csv → 1000000 rows\n"
          ]
        },
        {
          "output_type": "stream",
          "name": "stderr",
          "text": [
            "/tmp/ipython-input-3-4226862543.py:19: DtypeWarning: Columns (7) have mixed types. Specify dtype option on import or set low_memory=False.\n",
            "  df = pd.read_csv(file_path, on_bad_lines='skip')\n"
          ]
        },
        {
          "output_type": "stream",
          "name": "stdout",
          "text": [
            "Loaded: 202505-citibike-tripdata_3.csv → 1000000 rows\n"
          ]
        },
        {
          "output_type": "stream",
          "name": "stderr",
          "text": [
            "/tmp/ipython-input-3-4226862543.py:19: DtypeWarning: Columns (5,7) have mixed types. Specify dtype option on import or set low_memory=False.\n",
            "  df = pd.read_csv(file_path, on_bad_lines='skip')\n"
          ]
        },
        {
          "output_type": "stream",
          "name": "stdout",
          "text": [
            "Loaded: 202505-citibike-tripdata_4.csv → 1000000 rows\n"
          ]
        },
        {
          "output_type": "stream",
          "name": "stderr",
          "text": [
            "/tmp/ipython-input-3-4226862543.py:19: DtypeWarning: Columns (7) have mixed types. Specify dtype option on import or set low_memory=False.\n",
            "  df = pd.read_csv(file_path, on_bad_lines='skip')\n"
          ]
        },
        {
          "output_type": "stream",
          "name": "stdout",
          "text": [
            "Loaded: 202505-citibike-tripdata_5.csv → 325553 rows\n",
            "→ Wrote batch 2 with 5050149 rows\n",
            "\n",
            "✅ Cleaning complete. Output saved to: /content/drive/MyDrive/merged_cleaned.csv\n"
          ]
        }
      ],
      "source": [
        "folder_path = '/content/drive/MyDrive/city_bike_data'\n",
        "output_path = '/content/drive/MyDrive/merged_cleaned.csv'\n",
        "\n",
        "# Remove previous output if exists\n",
        "if os.path.exists(output_path):\n",
        "    os.remove(output_path)\n",
        "\n",
        "# Step 3: Read, clean, and merge in batches\n",
        "batch_size = 10\n",
        "batch = []\n",
        "first_write = True\n",
        "\n",
        "csv_files = sorted([f for f in os.listdir(folder_path) if f.endswith('.csv')])\n",
        "print(f\"Found {len(csv_files)} CSV files.\")\n",
        "\n",
        "for i, file in enumerate(csv_files):\n",
        "    file_path = os.path.join(folder_path, file)\n",
        "    try:\n",
        "        df = pd.read_csv(file_path, on_bad_lines='skip')\n",
        "\n",
        "        # --- CLEANING STEPS ---\n",
        "        df.dropna(how='all', inplace=True)                    # Remove fully empty rows\n",
        "        df = df.drop_duplicates()                             # Remove exact duplicates\n",
        "        df.columns = df.columns.str.strip()                   # Clean column names\n",
        "\n",
        "        # Standardize datetime column\n",
        "        if 'starttime' in df.columns:\n",
        "            df.rename(columns={'starttime': 'started_at'}, inplace=True)\n",
        "        elif 'started_at' not in df.columns:\n",
        "            print(f\"⚠️ No valid start time column in {file}\")\n",
        "            continue\n",
        "\n",
        "        # Parse date column\n",
        "        df['started_at'] = pd.to_datetime(df['started_at'], errors='coerce')\n",
        "\n",
        "        # Filter invalid dates\n",
        "        df = df[df['started_at'].notna()]\n",
        "\n",
        "        # Remove negative or zero duration if available\n",
        "        if 'tripduration' in df.columns:\n",
        "            df = df[df['tripduration'] > 0]\n",
        "\n",
        "        batch.append(df)\n",
        "        print(f\"Loaded: {file} → {len(df)} rows\")\n",
        "\n",
        "        # Write batch\n",
        "        if len(batch) == batch_size or i == len(csv_files) - 1:\n",
        "            combined = pd.concat(batch, ignore_index=True)\n",
        "            combined.to_csv(output_path, mode='a', header=first_write, index=False)\n",
        "            print(f\"→ Wrote batch {i // batch_size + 1} with {combined.shape[0]} rows\")\n",
        "            batch = []\n",
        "            first_write = False\n",
        "\n",
        "    except Exception as e:\n",
        "        print(f\"❌ Error processing {file}: {e}\")\n",
        "\n",
        "# Step 4: Confirm output\n",
        "print(f\"\\n✅ Cleaning complete. Output saved to: {output_path}\")"
      ]
    },
    {
      "cell_type": "code",
      "source": [
        "df = pd.read_csv('/content/drive/MyDrive/merged_cleaned.csv', parse_dates=['started_at'], on_bad_lines='skip')"
      ],
      "metadata": {
        "id": "u7_t8wnetzE2",
        "colab": {
          "base_uri": "https://localhost:8080/"
        },
        "outputId": "7eb020f4-4157-48f3-c26b-8cdb7c07b06f"
      },
      "execution_count": null,
      "outputs": [
        {
          "output_type": "stream",
          "name": "stderr",
          "text": [
            "/tmp/ipython-input-3-2377109420.py:1: DtypeWarning: Columns (5,7) have mixed types. Specify dtype option on import or set low_memory=False.\n",
            "  df = pd.read_csv('/content/drive/MyDrive/merged_cleaned.csv', parse_dates=['started_at'], on_bad_lines='skip')\n"
          ]
        }
      ]
    },
    {
      "cell_type": "code",
      "execution_count": null,
      "metadata": {
        "id": "QwKRIUIEt15j",
        "colab": {
          "base_uri": "https://localhost:8080/",
          "height": 486
        },
        "outputId": "34601ee3-28c1-4b40-f95c-caf811085e2b"
      },
      "outputs": [
        {
          "output_type": "execute_result",
          "data": {
            "text/plain": [
              "ride_id                   0\n",
              "rideable_type             0\n",
              "started_at                0\n",
              "ended_at                  0\n",
              "start_station_name     5375\n",
              "start_station_id       5375\n",
              "end_station_name      38086\n",
              "end_station_id        39983\n",
              "start_lat                 0\n",
              "start_lng                 0\n",
              "end_lat                2605\n",
              "end_lng                2605\n",
              "member_casual             0\n",
              "dtype: int64"
            ],
            "text/html": [
              "<div>\n",
              "<style scoped>\n",
              "    .dataframe tbody tr th:only-of-type {\n",
              "        vertical-align: middle;\n",
              "    }\n",
              "\n",
              "    .dataframe tbody tr th {\n",
              "        vertical-align: top;\n",
              "    }\n",
              "\n",
              "    .dataframe thead th {\n",
              "        text-align: right;\n",
              "    }\n",
              "</style>\n",
              "<table border=\"1\" class=\"dataframe\">\n",
              "  <thead>\n",
              "    <tr style=\"text-align: right;\">\n",
              "      <th></th>\n",
              "      <th>0</th>\n",
              "    </tr>\n",
              "  </thead>\n",
              "  <tbody>\n",
              "    <tr>\n",
              "      <th>ride_id</th>\n",
              "      <td>0</td>\n",
              "    </tr>\n",
              "    <tr>\n",
              "      <th>rideable_type</th>\n",
              "      <td>0</td>\n",
              "    </tr>\n",
              "    <tr>\n",
              "      <th>started_at</th>\n",
              "      <td>0</td>\n",
              "    </tr>\n",
              "    <tr>\n",
              "      <th>ended_at</th>\n",
              "      <td>0</td>\n",
              "    </tr>\n",
              "    <tr>\n",
              "      <th>start_station_name</th>\n",
              "      <td>5375</td>\n",
              "    </tr>\n",
              "    <tr>\n",
              "      <th>start_station_id</th>\n",
              "      <td>5375</td>\n",
              "    </tr>\n",
              "    <tr>\n",
              "      <th>end_station_name</th>\n",
              "      <td>38086</td>\n",
              "    </tr>\n",
              "    <tr>\n",
              "      <th>end_station_id</th>\n",
              "      <td>39983</td>\n",
              "    </tr>\n",
              "    <tr>\n",
              "      <th>start_lat</th>\n",
              "      <td>0</td>\n",
              "    </tr>\n",
              "    <tr>\n",
              "      <th>start_lng</th>\n",
              "      <td>0</td>\n",
              "    </tr>\n",
              "    <tr>\n",
              "      <th>end_lat</th>\n",
              "      <td>2605</td>\n",
              "    </tr>\n",
              "    <tr>\n",
              "      <th>end_lng</th>\n",
              "      <td>2605</td>\n",
              "    </tr>\n",
              "    <tr>\n",
              "      <th>member_casual</th>\n",
              "      <td>0</td>\n",
              "    </tr>\n",
              "  </tbody>\n",
              "</table>\n",
              "</div><br><label><b>dtype:</b> int64</label>"
            ]
          },
          "metadata": {},
          "execution_count": 4
        }
      ],
      "source": [
        "# check for the null values\n",
        "\n",
        "df.isnull().sum()"
      ]
    },
    {
      "cell_type": "markdown",
      "metadata": {
        "id": "yYobab9hzvTy"
      },
      "source": [
        "**Dropping and Encoding columns**"
      ]
    },
    {
      "cell_type": "code",
      "source": [
        "df=df.dropna(subset=['started_at', 'end_lat', 'end_lng', 'start_station_name', 'end_station_name', 'start_station_id', 'end_station_id'])\n",
        "df.isnull().sum()\n"
      ],
      "metadata": {
        "id": "ojKq8lUSz4Ss",
        "colab": {
          "base_uri": "https://localhost:8080/",
          "height": 486
        },
        "outputId": "1912c825-6460-4934-edce-f03f422ac5a4"
      },
      "execution_count": null,
      "outputs": [
        {
          "output_type": "execute_result",
          "data": {
            "text/plain": [
              "ride_id               0\n",
              "rideable_type         0\n",
              "started_at            0\n",
              "ended_at              0\n",
              "start_station_name    0\n",
              "start_station_id      0\n",
              "end_station_name      0\n",
              "end_station_id        0\n",
              "start_lat             0\n",
              "start_lng             0\n",
              "end_lat               0\n",
              "end_lng               0\n",
              "member_casual         0\n",
              "dtype: int64"
            ],
            "text/html": [
              "<div>\n",
              "<style scoped>\n",
              "    .dataframe tbody tr th:only-of-type {\n",
              "        vertical-align: middle;\n",
              "    }\n",
              "\n",
              "    .dataframe tbody tr th {\n",
              "        vertical-align: top;\n",
              "    }\n",
              "\n",
              "    .dataframe thead th {\n",
              "        text-align: right;\n",
              "    }\n",
              "</style>\n",
              "<table border=\"1\" class=\"dataframe\">\n",
              "  <thead>\n",
              "    <tr style=\"text-align: right;\">\n",
              "      <th></th>\n",
              "      <th>0</th>\n",
              "    </tr>\n",
              "  </thead>\n",
              "  <tbody>\n",
              "    <tr>\n",
              "      <th>ride_id</th>\n",
              "      <td>0</td>\n",
              "    </tr>\n",
              "    <tr>\n",
              "      <th>rideable_type</th>\n",
              "      <td>0</td>\n",
              "    </tr>\n",
              "    <tr>\n",
              "      <th>started_at</th>\n",
              "      <td>0</td>\n",
              "    </tr>\n",
              "    <tr>\n",
              "      <th>ended_at</th>\n",
              "      <td>0</td>\n",
              "    </tr>\n",
              "    <tr>\n",
              "      <th>start_station_name</th>\n",
              "      <td>0</td>\n",
              "    </tr>\n",
              "    <tr>\n",
              "      <th>start_station_id</th>\n",
              "      <td>0</td>\n",
              "    </tr>\n",
              "    <tr>\n",
              "      <th>end_station_name</th>\n",
              "      <td>0</td>\n",
              "    </tr>\n",
              "    <tr>\n",
              "      <th>end_station_id</th>\n",
              "      <td>0</td>\n",
              "    </tr>\n",
              "    <tr>\n",
              "      <th>start_lat</th>\n",
              "      <td>0</td>\n",
              "    </tr>\n",
              "    <tr>\n",
              "      <th>start_lng</th>\n",
              "      <td>0</td>\n",
              "    </tr>\n",
              "    <tr>\n",
              "      <th>end_lat</th>\n",
              "      <td>0</td>\n",
              "    </tr>\n",
              "    <tr>\n",
              "      <th>end_lng</th>\n",
              "      <td>0</td>\n",
              "    </tr>\n",
              "    <tr>\n",
              "      <th>member_casual</th>\n",
              "      <td>0</td>\n",
              "    </tr>\n",
              "  </tbody>\n",
              "</table>\n",
              "</div><br><label><b>dtype:</b> int64</label>"
            ]
          },
          "metadata": {},
          "execution_count": 5
        }
      ]
    },
    {
      "cell_type": "markdown",
      "metadata": {
        "id": "DyTcUfT6vRUZ"
      },
      "source": [
        "**Changing Data Types**"
      ]
    },
    {
      "cell_type": "code",
      "execution_count": null,
      "metadata": {
        "colab": {
          "base_uri": "https://localhost:8080/"
        },
        "id": "b_Ehf34qlLHo",
        "outputId": "a70cb0ea-2797-41e6-d4a2-19803d385c2c"
      },
      "outputs": [
        {
          "output_type": "stream",
          "name": "stdout",
          "text": [
            "<class 'pandas.core.frame.DataFrame'>\n",
            "Index: 15329730 entries, 0 to 15374151\n",
            "Data columns (total 13 columns):\n",
            " #   Column              Dtype         \n",
            "---  ------              -----         \n",
            " 0   ride_id             object        \n",
            " 1   rideable_type       object        \n",
            " 2   started_at          datetime64[ns]\n",
            " 3   ended_at            object        \n",
            " 4   start_station_name  object        \n",
            " 5   start_station_id    object        \n",
            " 6   end_station_name    object        \n",
            " 7   end_station_id      object        \n",
            " 8   start_lat           float64       \n",
            " 9   start_lng           float64       \n",
            " 10  end_lat             float64       \n",
            " 11  end_lng             float64       \n",
            " 12  member_casual       object        \n",
            "dtypes: datetime64[ns](1), float64(4), object(8)\n",
            "memory usage: 1.6+ GB\n"
          ]
        }
      ],
      "source": [
        "df.info()"
      ]
    },
    {
      "cell_type": "code",
      "execution_count": null,
      "metadata": {
        "id": "GsDVdVNhvU_k"
      },
      "outputs": [],
      "source": [
        "# Convert timestamps\n",
        "df['started_at'] = pd.to_datetime(df['started_at'], errors='coerce')\n",
        "df['ended_at'] = pd.to_datetime(df['ended_at'], errors='coerce')\n",
        "\n",
        "# Convert categorical string columns\n",
        "categorical_columns = ['rideable_type', 'member_casual']\n",
        "\n",
        "for col in categorical_columns:\n",
        "    df[col] = df[col].astype('category')"
      ]
    },
    {
      "cell_type": "markdown",
      "metadata": {
        "id": "Ych0Zqpi6eIM"
      },
      "source": [
        "**New Column Trip Duration**"
      ]
    },
    {
      "cell_type": "code",
      "execution_count": null,
      "metadata": {
        "id": "0izCdfGdwnFH"
      },
      "outputs": [],
      "source": [
        "df['trip_duration_min'] = (df['ended_at'] - df['started_at']).dt.total_seconds() / 60"
      ]
    },
    {
      "cell_type": "code",
      "execution_count": null,
      "metadata": {
        "id": "CU1RSE1d7Cf3"
      },
      "outputs": [],
      "source": [
        "# Hour of the day (0–23)\n",
        "df['hour_of_day'] = df['started_at'].dt.hour\n",
        "\n",
        "# Day of the week name (e.g., Monday, Tuesday)\n",
        "df['day_of_week'] = df['started_at'].dt.day_name()\n",
        "\n",
        "# Day of week number (Monday=0, Sunday=6)\n",
        "df['day_of_week_num'] = df['started_at'].dt.dayofweek\n",
        "\n",
        "# Is weekend (Saturday=5, Sunday=6 → True)\n",
        "df['is_weekend'] = df['day_of_week_num'] >= 5\n",
        "\n",
        "# Month name (e.g., January)\n",
        "df['month'] = df['started_at'].dt.month_name()\n",
        "\n",
        "# Month number (1–12)\n",
        "df['month_num'] = df['started_at'].dt.month\n",
        "\n",
        "# Year (if your data spans multiple years)\n",
        "df['year'] = df['started_at'].dt.year"
      ]
    },
    {
      "cell_type": "markdown",
      "source": [
        "**Save cleaned**"
      ],
      "metadata": {
        "id": "lDwDjOb_CHUf"
      }
    },
    {
      "cell_type": "code",
      "source": [
        "df.to_csv('/content/drive/MyDrive/final_cleaned.csv', index=False)"
      ],
      "metadata": {
        "id": "s4glOZfM3bUY"
      },
      "execution_count": null,
      "outputs": []
    },
    {
      "cell_type": "markdown",
      "source": [
        "**After Saved read the file**"
      ],
      "metadata": {
        "id": "tXjH_STKH1jG"
      }
    },
    {
      "cell_type": "code",
      "source": [
        "import seaborn as sns\n",
        "import matplotlib.pyplot as plt\n",
        "import numpy as np\n",
        "import pandas as pd"
      ],
      "metadata": {
        "id": "vwK5rJbgZAtT"
      },
      "execution_count": 3,
      "outputs": []
    },
    {
      "cell_type": "code",
      "source": [
        "chunks = []\n",
        "chunk_size = 500_000  # Try 100_000 if you still hit memory issues\n",
        "\n",
        "for chunk in pd.read_csv('/content/drive/MyDrive/final_cleaned.csv', chunksize=chunk_size):\n",
        "    chunks.append(chunk)\n",
        "\n",
        "df = pd.concat(chunks, ignore_index=True)"
      ],
      "metadata": {
        "colab": {
          "base_uri": "https://localhost:8080/"
        },
        "id": "SMbYWCx5H0uj",
        "outputId": "72f7431c-4bb4-4d8d-a6e1-021fa79fc93f"
      },
      "execution_count": 3,
      "outputs": [
        {
          "output_type": "stream",
          "name": "stderr",
          "text": [
            "/tmp/ipython-input-3-823476911.py:4: DtypeWarning: Columns (5,7) have mixed types. Specify dtype option on import or set low_memory=False.\n",
            "  for chunk in pd.read_csv('/content/drive/MyDrive/final_cleaned.csv', chunksize=chunk_size):\n",
            "/tmp/ipython-input-3-823476911.py:4: DtypeWarning: Columns (5,7) have mixed types. Specify dtype option on import or set low_memory=False.\n",
            "  for chunk in pd.read_csv('/content/drive/MyDrive/final_cleaned.csv', chunksize=chunk_size):\n",
            "/tmp/ipython-input-3-823476911.py:4: DtypeWarning: Columns (5,7) have mixed types. Specify dtype option on import or set low_memory=False.\n",
            "  for chunk in pd.read_csv('/content/drive/MyDrive/final_cleaned.csv', chunksize=chunk_size):\n",
            "/tmp/ipython-input-3-823476911.py:4: DtypeWarning: Columns (5,7) have mixed types. Specify dtype option on import or set low_memory=False.\n",
            "  for chunk in pd.read_csv('/content/drive/MyDrive/final_cleaned.csv', chunksize=chunk_size):\n",
            "/tmp/ipython-input-3-823476911.py:4: DtypeWarning: Columns (7) have mixed types. Specify dtype option on import or set low_memory=False.\n",
            "  for chunk in pd.read_csv('/content/drive/MyDrive/final_cleaned.csv', chunksize=chunk_size):\n",
            "/tmp/ipython-input-3-823476911.py:4: DtypeWarning: Columns (5,7) have mixed types. Specify dtype option on import or set low_memory=False.\n",
            "  for chunk in pd.read_csv('/content/drive/MyDrive/final_cleaned.csv', chunksize=chunk_size):\n",
            "/tmp/ipython-input-3-823476911.py:4: DtypeWarning: Columns (5,7) have mixed types. Specify dtype option on import or set low_memory=False.\n",
            "  for chunk in pd.read_csv('/content/drive/MyDrive/final_cleaned.csv', chunksize=chunk_size):\n",
            "/tmp/ipython-input-3-823476911.py:4: DtypeWarning: Columns (5,7) have mixed types. Specify dtype option on import or set low_memory=False.\n",
            "  for chunk in pd.read_csv('/content/drive/MyDrive/final_cleaned.csv', chunksize=chunk_size):\n",
            "/tmp/ipython-input-3-823476911.py:4: DtypeWarning: Columns (5,7) have mixed types. Specify dtype option on import or set low_memory=False.\n",
            "  for chunk in pd.read_csv('/content/drive/MyDrive/final_cleaned.csv', chunksize=chunk_size):\n",
            "/tmp/ipython-input-3-823476911.py:4: DtypeWarning: Columns (5,7) have mixed types. Specify dtype option on import or set low_memory=False.\n",
            "  for chunk in pd.read_csv('/content/drive/MyDrive/final_cleaned.csv', chunksize=chunk_size):\n",
            "/tmp/ipython-input-3-823476911.py:4: DtypeWarning: Columns (5,7) have mixed types. Specify dtype option on import or set low_memory=False.\n",
            "  for chunk in pd.read_csv('/content/drive/MyDrive/final_cleaned.csv', chunksize=chunk_size):\n",
            "/tmp/ipython-input-3-823476911.py:4: DtypeWarning: Columns (5,7) have mixed types. Specify dtype option on import or set low_memory=False.\n",
            "  for chunk in pd.read_csv('/content/drive/MyDrive/final_cleaned.csv', chunksize=chunk_size):\n",
            "/tmp/ipython-input-3-823476911.py:4: DtypeWarning: Columns (5,7) have mixed types. Specify dtype option on import or set low_memory=False.\n",
            "  for chunk in pd.read_csv('/content/drive/MyDrive/final_cleaned.csv', chunksize=chunk_size):\n",
            "/tmp/ipython-input-3-823476911.py:4: DtypeWarning: Columns (5,7) have mixed types. Specify dtype option on import or set low_memory=False.\n",
            "  for chunk in pd.read_csv('/content/drive/MyDrive/final_cleaned.csv', chunksize=chunk_size):\n",
            "/tmp/ipython-input-3-823476911.py:4: DtypeWarning: Columns (5,7) have mixed types. Specify dtype option on import or set low_memory=False.\n",
            "  for chunk in pd.read_csv('/content/drive/MyDrive/final_cleaned.csv', chunksize=chunk_size):\n",
            "/tmp/ipython-input-3-823476911.py:4: DtypeWarning: Columns (5,7) have mixed types. Specify dtype option on import or set low_memory=False.\n",
            "  for chunk in pd.read_csv('/content/drive/MyDrive/final_cleaned.csv', chunksize=chunk_size):\n",
            "/tmp/ipython-input-3-823476911.py:4: DtypeWarning: Columns (5,7) have mixed types. Specify dtype option on import or set low_memory=False.\n",
            "  for chunk in pd.read_csv('/content/drive/MyDrive/final_cleaned.csv', chunksize=chunk_size):\n",
            "/tmp/ipython-input-3-823476911.py:4: DtypeWarning: Columns (5,7) have mixed types. Specify dtype option on import or set low_memory=False.\n",
            "  for chunk in pd.read_csv('/content/drive/MyDrive/final_cleaned.csv', chunksize=chunk_size):\n",
            "/tmp/ipython-input-3-823476911.py:4: DtypeWarning: Columns (5,7) have mixed types. Specify dtype option on import or set low_memory=False.\n",
            "  for chunk in pd.read_csv('/content/drive/MyDrive/final_cleaned.csv', chunksize=chunk_size):\n",
            "/tmp/ipython-input-3-823476911.py:4: DtypeWarning: Columns (5,7) have mixed types. Specify dtype option on import or set low_memory=False.\n",
            "  for chunk in pd.read_csv('/content/drive/MyDrive/final_cleaned.csv', chunksize=chunk_size):\n",
            "/tmp/ipython-input-3-823476911.py:4: DtypeWarning: Columns (5,7) have mixed types. Specify dtype option on import or set low_memory=False.\n",
            "  for chunk in pd.read_csv('/content/drive/MyDrive/final_cleaned.csv', chunksize=chunk_size):\n",
            "/tmp/ipython-input-3-823476911.py:4: DtypeWarning: Columns (5,7) have mixed types. Specify dtype option on import or set low_memory=False.\n",
            "  for chunk in pd.read_csv('/content/drive/MyDrive/final_cleaned.csv', chunksize=chunk_size):\n",
            "/tmp/ipython-input-3-823476911.py:4: DtypeWarning: Columns (5,7) have mixed types. Specify dtype option on import or set low_memory=False.\n",
            "  for chunk in pd.read_csv('/content/drive/MyDrive/final_cleaned.csv', chunksize=chunk_size):\n",
            "/tmp/ipython-input-3-823476911.py:4: DtypeWarning: Columns (5,7) have mixed types. Specify dtype option on import or set low_memory=False.\n",
            "  for chunk in pd.read_csv('/content/drive/MyDrive/final_cleaned.csv', chunksize=chunk_size):\n",
            "/tmp/ipython-input-3-823476911.py:4: DtypeWarning: Columns (5,7) have mixed types. Specify dtype option on import or set low_memory=False.\n",
            "  for chunk in pd.read_csv('/content/drive/MyDrive/final_cleaned.csv', chunksize=chunk_size):\n",
            "/tmp/ipython-input-3-823476911.py:4: DtypeWarning: Columns (5,7) have mixed types. Specify dtype option on import or set low_memory=False.\n",
            "  for chunk in pd.read_csv('/content/drive/MyDrive/final_cleaned.csv', chunksize=chunk_size):\n",
            "/tmp/ipython-input-3-823476911.py:4: DtypeWarning: Columns (7) have mixed types. Specify dtype option on import or set low_memory=False.\n",
            "  for chunk in pd.read_csv('/content/drive/MyDrive/final_cleaned.csv', chunksize=chunk_size):\n",
            "/tmp/ipython-input-3-823476911.py:4: DtypeWarning: Columns (5,7) have mixed types. Specify dtype option on import or set low_memory=False.\n",
            "  for chunk in pd.read_csv('/content/drive/MyDrive/final_cleaned.csv', chunksize=chunk_size):\n",
            "/tmp/ipython-input-3-823476911.py:4: DtypeWarning: Columns (5,7) have mixed types. Specify dtype option on import or set low_memory=False.\n",
            "  for chunk in pd.read_csv('/content/drive/MyDrive/final_cleaned.csv', chunksize=chunk_size):\n",
            "/tmp/ipython-input-3-823476911.py:4: DtypeWarning: Columns (5,7) have mixed types. Specify dtype option on import or set low_memory=False.\n",
            "  for chunk in pd.read_csv('/content/drive/MyDrive/final_cleaned.csv', chunksize=chunk_size):\n",
            "/tmp/ipython-input-3-823476911.py:4: DtypeWarning: Columns (5,7) have mixed types. Specify dtype option on import or set low_memory=False.\n",
            "  for chunk in pd.read_csv('/content/drive/MyDrive/final_cleaned.csv', chunksize=chunk_size):\n"
          ]
        }
      ]
    },
    {
      "cell_type": "code",
      "execution_count": 10,
      "metadata": {
        "colab": {
          "base_uri": "https://localhost:8080/"
        },
        "id": "fI-tUavTcSV3",
        "outputId": "b394ec15-9816-4be2-9d86-82d5cf69fe84"
      },
      "outputs": [
        {
          "output_type": "stream",
          "name": "stdout",
          "text": [
            "Index(['ride_id', 'rideable_type', 'started_at', 'ended_at',\n",
            "       'start_station_name', 'start_station_id', 'end_station_name',\n",
            "       'end_station_id', 'start_lat', 'start_lng', 'end_lat', 'end_lng',\n",
            "       'member_casual', 'trip_duration_min', 'hour_of_day', 'day_of_week',\n",
            "       'day_of_week_num', 'is_weekend', 'month', 'month_num', 'year'],\n",
            "      dtype='object')\n"
          ]
        }
      ],
      "source": [
        "# Check columns\n",
        "print(df.columns)"
      ]
    },
    {
      "cell_type": "code",
      "execution_count": 14,
      "metadata": {
        "colab": {
          "base_uri": "https://localhost:8080/",
          "height": 338
        },
        "id": "Bey_wR6-ty9L",
        "outputId": "2feb4cf9-8b50-4d30-80d8-323ac4f8515f"
      },
      "outputs": [
        {
          "output_type": "execute_result",
          "data": {
            "text/plain": [
              "            ride_id  rideable_type               started_at  \\\n",
              "0  56BD148A05E26915  electric_bike  2025-01-01 22:19:06.324   \n",
              "1  700CCCDF00C08077  electric_bike  2025-01-09 15:20:43.991   \n",
              "2  B1A3FAFA5FE651CE  electric_bike  2025-01-01 12:54:26.571   \n",
              "3  9CB0F28054BA5EBC  electric_bike  2025-01-14 13:43:59.151   \n",
              "4  A1B8FDD4FAF0C2B2  electric_bike  2025-01-13 07:20:37.176   \n",
              "\n",
              "                  ended_at     start_station_name start_station_id  \\\n",
              "0  2025-01-01 22:23:32.899        W 36 St & 7 Ave          6483.06   \n",
              "1  2025-01-09 15:26:19.137     Broadway & E 19 St          5980.11   \n",
              "2  2025-01-01 13:03:03.565    Jackson Ave & 46 Rd          6203.02   \n",
              "3  2025-01-14 13:49:04.543     Broadway & E 19 St          5980.11   \n",
              "4  2025-01-13 07:29:18.015  Willis Ave & E 143 St          7798.02   \n",
              "\n",
              "         end_station_name end_station_id  start_lat  start_lng  ...  \\\n",
              "0         W 24 St & 7 Ave        6257.03  40.752149 -73.989539  ...   \n",
              "1         W 24 St & 7 Ave        6257.03  40.738290 -73.990060  ...   \n",
              "2  Crescent St & Broadway        6827.11  40.745248 -73.947333  ...   \n",
              "3         W 24 St & 7 Ave        6257.03  40.738290 -73.990060  ...   \n",
              "4        1 Ave & E 110 St        7522.02  40.812299 -73.920370  ...   \n",
              "\n",
              "     end_lng  member_casual trip_duration_min  hour_of_day  day_of_week  \\\n",
              "0 -73.995299         member          4.442917           22    Wednesday   \n",
              "1 -73.995299         member          5.585767           15     Thursday   \n",
              "2 -73.928647         member          8.616567           12    Wednesday   \n",
              "3 -73.995299         member          5.089867           13      Tuesday   \n",
              "4 -73.938300         member          8.680650            7       Monday   \n",
              "\n",
              "  day_of_week_num  is_weekend    month month_num  year  \n",
              "0               2       False  January         1  2025  \n",
              "1               3       False  January         1  2025  \n",
              "2               2       False  January         1  2025  \n",
              "3               1       False  January         1  2025  \n",
              "4               0       False  January         1  2025  \n",
              "\n",
              "[5 rows x 21 columns]"
            ],
            "text/html": [
              "\n",
              "  <div id=\"df-e4750e00-4b63-4e20-8343-d91b43af175f\" class=\"colab-df-container\">\n",
              "    <div>\n",
              "<style scoped>\n",
              "    .dataframe tbody tr th:only-of-type {\n",
              "        vertical-align: middle;\n",
              "    }\n",
              "\n",
              "    .dataframe tbody tr th {\n",
              "        vertical-align: top;\n",
              "    }\n",
              "\n",
              "    .dataframe thead th {\n",
              "        text-align: right;\n",
              "    }\n",
              "</style>\n",
              "<table border=\"1\" class=\"dataframe\">\n",
              "  <thead>\n",
              "    <tr style=\"text-align: right;\">\n",
              "      <th></th>\n",
              "      <th>ride_id</th>\n",
              "      <th>rideable_type</th>\n",
              "      <th>started_at</th>\n",
              "      <th>ended_at</th>\n",
              "      <th>start_station_name</th>\n",
              "      <th>start_station_id</th>\n",
              "      <th>end_station_name</th>\n",
              "      <th>end_station_id</th>\n",
              "      <th>start_lat</th>\n",
              "      <th>start_lng</th>\n",
              "      <th>...</th>\n",
              "      <th>end_lng</th>\n",
              "      <th>member_casual</th>\n",
              "      <th>trip_duration_min</th>\n",
              "      <th>hour_of_day</th>\n",
              "      <th>day_of_week</th>\n",
              "      <th>day_of_week_num</th>\n",
              "      <th>is_weekend</th>\n",
              "      <th>month</th>\n",
              "      <th>month_num</th>\n",
              "      <th>year</th>\n",
              "    </tr>\n",
              "  </thead>\n",
              "  <tbody>\n",
              "    <tr>\n",
              "      <th>0</th>\n",
              "      <td>56BD148A05E26915</td>\n",
              "      <td>electric_bike</td>\n",
              "      <td>2025-01-01 22:19:06.324</td>\n",
              "      <td>2025-01-01 22:23:32.899</td>\n",
              "      <td>W 36 St &amp; 7 Ave</td>\n",
              "      <td>6483.06</td>\n",
              "      <td>W 24 St &amp; 7 Ave</td>\n",
              "      <td>6257.03</td>\n",
              "      <td>40.752149</td>\n",
              "      <td>-73.989539</td>\n",
              "      <td>...</td>\n",
              "      <td>-73.995299</td>\n",
              "      <td>member</td>\n",
              "      <td>4.442917</td>\n",
              "      <td>22</td>\n",
              "      <td>Wednesday</td>\n",
              "      <td>2</td>\n",
              "      <td>False</td>\n",
              "      <td>January</td>\n",
              "      <td>1</td>\n",
              "      <td>2025</td>\n",
              "    </tr>\n",
              "    <tr>\n",
              "      <th>1</th>\n",
              "      <td>700CCCDF00C08077</td>\n",
              "      <td>electric_bike</td>\n",
              "      <td>2025-01-09 15:20:43.991</td>\n",
              "      <td>2025-01-09 15:26:19.137</td>\n",
              "      <td>Broadway &amp; E 19 St</td>\n",
              "      <td>5980.11</td>\n",
              "      <td>W 24 St &amp; 7 Ave</td>\n",
              "      <td>6257.03</td>\n",
              "      <td>40.738290</td>\n",
              "      <td>-73.990060</td>\n",
              "      <td>...</td>\n",
              "      <td>-73.995299</td>\n",
              "      <td>member</td>\n",
              "      <td>5.585767</td>\n",
              "      <td>15</td>\n",
              "      <td>Thursday</td>\n",
              "      <td>3</td>\n",
              "      <td>False</td>\n",
              "      <td>January</td>\n",
              "      <td>1</td>\n",
              "      <td>2025</td>\n",
              "    </tr>\n",
              "    <tr>\n",
              "      <th>2</th>\n",
              "      <td>B1A3FAFA5FE651CE</td>\n",
              "      <td>electric_bike</td>\n",
              "      <td>2025-01-01 12:54:26.571</td>\n",
              "      <td>2025-01-01 13:03:03.565</td>\n",
              "      <td>Jackson Ave &amp; 46 Rd</td>\n",
              "      <td>6203.02</td>\n",
              "      <td>Crescent St &amp; Broadway</td>\n",
              "      <td>6827.11</td>\n",
              "      <td>40.745248</td>\n",
              "      <td>-73.947333</td>\n",
              "      <td>...</td>\n",
              "      <td>-73.928647</td>\n",
              "      <td>member</td>\n",
              "      <td>8.616567</td>\n",
              "      <td>12</td>\n",
              "      <td>Wednesday</td>\n",
              "      <td>2</td>\n",
              "      <td>False</td>\n",
              "      <td>January</td>\n",
              "      <td>1</td>\n",
              "      <td>2025</td>\n",
              "    </tr>\n",
              "    <tr>\n",
              "      <th>3</th>\n",
              "      <td>9CB0F28054BA5EBC</td>\n",
              "      <td>electric_bike</td>\n",
              "      <td>2025-01-14 13:43:59.151</td>\n",
              "      <td>2025-01-14 13:49:04.543</td>\n",
              "      <td>Broadway &amp; E 19 St</td>\n",
              "      <td>5980.11</td>\n",
              "      <td>W 24 St &amp; 7 Ave</td>\n",
              "      <td>6257.03</td>\n",
              "      <td>40.738290</td>\n",
              "      <td>-73.990060</td>\n",
              "      <td>...</td>\n",
              "      <td>-73.995299</td>\n",
              "      <td>member</td>\n",
              "      <td>5.089867</td>\n",
              "      <td>13</td>\n",
              "      <td>Tuesday</td>\n",
              "      <td>1</td>\n",
              "      <td>False</td>\n",
              "      <td>January</td>\n",
              "      <td>1</td>\n",
              "      <td>2025</td>\n",
              "    </tr>\n",
              "    <tr>\n",
              "      <th>4</th>\n",
              "      <td>A1B8FDD4FAF0C2B2</td>\n",
              "      <td>electric_bike</td>\n",
              "      <td>2025-01-13 07:20:37.176</td>\n",
              "      <td>2025-01-13 07:29:18.015</td>\n",
              "      <td>Willis Ave &amp; E 143 St</td>\n",
              "      <td>7798.02</td>\n",
              "      <td>1 Ave &amp; E 110 St</td>\n",
              "      <td>7522.02</td>\n",
              "      <td>40.812299</td>\n",
              "      <td>-73.920370</td>\n",
              "      <td>...</td>\n",
              "      <td>-73.938300</td>\n",
              "      <td>member</td>\n",
              "      <td>8.680650</td>\n",
              "      <td>7</td>\n",
              "      <td>Monday</td>\n",
              "      <td>0</td>\n",
              "      <td>False</td>\n",
              "      <td>January</td>\n",
              "      <td>1</td>\n",
              "      <td>2025</td>\n",
              "    </tr>\n",
              "  </tbody>\n",
              "</table>\n",
              "<p>5 rows × 21 columns</p>\n",
              "</div>\n",
              "    <div class=\"colab-df-buttons\">\n",
              "\n",
              "  <div class=\"colab-df-container\">\n",
              "    <button class=\"colab-df-convert\" onclick=\"convertToInteractive('df-e4750e00-4b63-4e20-8343-d91b43af175f')\"\n",
              "            title=\"Convert this dataframe to an interactive table.\"\n",
              "            style=\"display:none;\">\n",
              "\n",
              "  <svg xmlns=\"http://www.w3.org/2000/svg\" height=\"24px\" viewBox=\"0 -960 960 960\">\n",
              "    <path d=\"M120-120v-720h720v720H120Zm60-500h600v-160H180v160Zm220 220h160v-160H400v160Zm0 220h160v-160H400v160ZM180-400h160v-160H180v160Zm440 0h160v-160H620v160ZM180-180h160v-160H180v160Zm440 0h160v-160H620v160Z\"/>\n",
              "  </svg>\n",
              "    </button>\n",
              "\n",
              "  <style>\n",
              "    .colab-df-container {\n",
              "      display:flex;\n",
              "      gap: 12px;\n",
              "    }\n",
              "\n",
              "    .colab-df-convert {\n",
              "      background-color: #E8F0FE;\n",
              "      border: none;\n",
              "      border-radius: 50%;\n",
              "      cursor: pointer;\n",
              "      display: none;\n",
              "      fill: #1967D2;\n",
              "      height: 32px;\n",
              "      padding: 0 0 0 0;\n",
              "      width: 32px;\n",
              "    }\n",
              "\n",
              "    .colab-df-convert:hover {\n",
              "      background-color: #E2EBFA;\n",
              "      box-shadow: 0px 1px 2px rgba(60, 64, 67, 0.3), 0px 1px 3px 1px rgba(60, 64, 67, 0.15);\n",
              "      fill: #174EA6;\n",
              "    }\n",
              "\n",
              "    .colab-df-buttons div {\n",
              "      margin-bottom: 4px;\n",
              "    }\n",
              "\n",
              "    [theme=dark] .colab-df-convert {\n",
              "      background-color: #3B4455;\n",
              "      fill: #D2E3FC;\n",
              "    }\n",
              "\n",
              "    [theme=dark] .colab-df-convert:hover {\n",
              "      background-color: #434B5C;\n",
              "      box-shadow: 0px 1px 3px 1px rgba(0, 0, 0, 0.15);\n",
              "      filter: drop-shadow(0px 1px 2px rgba(0, 0, 0, 0.3));\n",
              "      fill: #FFFFFF;\n",
              "    }\n",
              "  </style>\n",
              "\n",
              "    <script>\n",
              "      const buttonEl =\n",
              "        document.querySelector('#df-e4750e00-4b63-4e20-8343-d91b43af175f button.colab-df-convert');\n",
              "      buttonEl.style.display =\n",
              "        google.colab.kernel.accessAllowed ? 'block' : 'none';\n",
              "\n",
              "      async function convertToInteractive(key) {\n",
              "        const element = document.querySelector('#df-e4750e00-4b63-4e20-8343-d91b43af175f');\n",
              "        const dataTable =\n",
              "          await google.colab.kernel.invokeFunction('convertToInteractive',\n",
              "                                                    [key], {});\n",
              "        if (!dataTable) return;\n",
              "\n",
              "        const docLinkHtml = 'Like what you see? Visit the ' +\n",
              "          '<a target=\"_blank\" href=https://colab.research.google.com/notebooks/data_table.ipynb>data table notebook</a>'\n",
              "          + ' to learn more about interactive tables.';\n",
              "        element.innerHTML = '';\n",
              "        dataTable['output_type'] = 'display_data';\n",
              "        await google.colab.output.renderOutput(dataTable, element);\n",
              "        const docLink = document.createElement('div');\n",
              "        docLink.innerHTML = docLinkHtml;\n",
              "        element.appendChild(docLink);\n",
              "      }\n",
              "    </script>\n",
              "  </div>\n",
              "\n",
              "\n",
              "    <div id=\"df-479b289c-0726-42dc-8b56-50caa0024ea5\">\n",
              "      <button class=\"colab-df-quickchart\" onclick=\"quickchart('df-479b289c-0726-42dc-8b56-50caa0024ea5')\"\n",
              "                title=\"Suggest charts\"\n",
              "                style=\"display:none;\">\n",
              "\n",
              "<svg xmlns=\"http://www.w3.org/2000/svg\" height=\"24px\"viewBox=\"0 0 24 24\"\n",
              "     width=\"24px\">\n",
              "    <g>\n",
              "        <path d=\"M19 3H5c-1.1 0-2 .9-2 2v14c0 1.1.9 2 2 2h14c1.1 0 2-.9 2-2V5c0-1.1-.9-2-2-2zM9 17H7v-7h2v7zm4 0h-2V7h2v10zm4 0h-2v-4h2v4z\"/>\n",
              "    </g>\n",
              "</svg>\n",
              "      </button>\n",
              "\n",
              "<style>\n",
              "  .colab-df-quickchart {\n",
              "      --bg-color: #E8F0FE;\n",
              "      --fill-color: #1967D2;\n",
              "      --hover-bg-color: #E2EBFA;\n",
              "      --hover-fill-color: #174EA6;\n",
              "      --disabled-fill-color: #AAA;\n",
              "      --disabled-bg-color: #DDD;\n",
              "  }\n",
              "\n",
              "  [theme=dark] .colab-df-quickchart {\n",
              "      --bg-color: #3B4455;\n",
              "      --fill-color: #D2E3FC;\n",
              "      --hover-bg-color: #434B5C;\n",
              "      --hover-fill-color: #FFFFFF;\n",
              "      --disabled-bg-color: #3B4455;\n",
              "      --disabled-fill-color: #666;\n",
              "  }\n",
              "\n",
              "  .colab-df-quickchart {\n",
              "    background-color: var(--bg-color);\n",
              "    border: none;\n",
              "    border-radius: 50%;\n",
              "    cursor: pointer;\n",
              "    display: none;\n",
              "    fill: var(--fill-color);\n",
              "    height: 32px;\n",
              "    padding: 0;\n",
              "    width: 32px;\n",
              "  }\n",
              "\n",
              "  .colab-df-quickchart:hover {\n",
              "    background-color: var(--hover-bg-color);\n",
              "    box-shadow: 0 1px 2px rgba(60, 64, 67, 0.3), 0 1px 3px 1px rgba(60, 64, 67, 0.15);\n",
              "    fill: var(--button-hover-fill-color);\n",
              "  }\n",
              "\n",
              "  .colab-df-quickchart-complete:disabled,\n",
              "  .colab-df-quickchart-complete:disabled:hover {\n",
              "    background-color: var(--disabled-bg-color);\n",
              "    fill: var(--disabled-fill-color);\n",
              "    box-shadow: none;\n",
              "  }\n",
              "\n",
              "  .colab-df-spinner {\n",
              "    border: 2px solid var(--fill-color);\n",
              "    border-color: transparent;\n",
              "    border-bottom-color: var(--fill-color);\n",
              "    animation:\n",
              "      spin 1s steps(1) infinite;\n",
              "  }\n",
              "\n",
              "  @keyframes spin {\n",
              "    0% {\n",
              "      border-color: transparent;\n",
              "      border-bottom-color: var(--fill-color);\n",
              "      border-left-color: var(--fill-color);\n",
              "    }\n",
              "    20% {\n",
              "      border-color: transparent;\n",
              "      border-left-color: var(--fill-color);\n",
              "      border-top-color: var(--fill-color);\n",
              "    }\n",
              "    30% {\n",
              "      border-color: transparent;\n",
              "      border-left-color: var(--fill-color);\n",
              "      border-top-color: var(--fill-color);\n",
              "      border-right-color: var(--fill-color);\n",
              "    }\n",
              "    40% {\n",
              "      border-color: transparent;\n",
              "      border-right-color: var(--fill-color);\n",
              "      border-top-color: var(--fill-color);\n",
              "    }\n",
              "    60% {\n",
              "      border-color: transparent;\n",
              "      border-right-color: var(--fill-color);\n",
              "    }\n",
              "    80% {\n",
              "      border-color: transparent;\n",
              "      border-right-color: var(--fill-color);\n",
              "      border-bottom-color: var(--fill-color);\n",
              "    }\n",
              "    90% {\n",
              "      border-color: transparent;\n",
              "      border-bottom-color: var(--fill-color);\n",
              "    }\n",
              "  }\n",
              "</style>\n",
              "\n",
              "      <script>\n",
              "        async function quickchart(key) {\n",
              "          const quickchartButtonEl =\n",
              "            document.querySelector('#' + key + ' button');\n",
              "          quickchartButtonEl.disabled = true;  // To prevent multiple clicks.\n",
              "          quickchartButtonEl.classList.add('colab-df-spinner');\n",
              "          try {\n",
              "            const charts = await google.colab.kernel.invokeFunction(\n",
              "                'suggestCharts', [key], {});\n",
              "          } catch (error) {\n",
              "            console.error('Error during call to suggestCharts:', error);\n",
              "          }\n",
              "          quickchartButtonEl.classList.remove('colab-df-spinner');\n",
              "          quickchartButtonEl.classList.add('colab-df-quickchart-complete');\n",
              "        }\n",
              "        (() => {\n",
              "          let quickchartButtonEl =\n",
              "            document.querySelector('#df-479b289c-0726-42dc-8b56-50caa0024ea5 button');\n",
              "          quickchartButtonEl.style.display =\n",
              "            google.colab.kernel.accessAllowed ? 'block' : 'none';\n",
              "        })();\n",
              "      </script>\n",
              "    </div>\n",
              "\n",
              "    </div>\n",
              "  </div>\n"
            ],
            "application/vnd.google.colaboratory.intrinsic+json": {
              "type": "dataframe",
              "variable_name": "df"
            }
          },
          "metadata": {},
          "execution_count": 14
        }
      ],
      "source": [
        "df.head()         # First 5 rows"
      ]
    },
    {
      "cell_type": "code",
      "execution_count": 15,
      "metadata": {
        "colab": {
          "base_uri": "https://localhost:8080/",
          "height": 338
        },
        "id": "KQp7hLQJvKyL",
        "outputId": "32725da5-44ed-46ea-f4c4-72a5351ef81e"
      },
      "outputs": [
        {
          "output_type": "execute_result",
          "data": {
            "text/plain": [
              "                   ride_id  rideable_type               started_at  \\\n",
              "15329725  32F569A2ACCFF1BB  electric_bike  2025-05-31 19:26:41.288   \n",
              "15329726  B053663BE4A0AEE3   classic_bike  2025-05-24 12:40:16.578   \n",
              "15329727  D1DC4D9EA5E3FFC1   classic_bike  2025-05-26 21:42:36.222   \n",
              "15329728  E461C1E7D327C276  electric_bike  2025-05-30 19:57:41.844   \n",
              "15329729  5F2228274547BF40  electric_bike  2025-05-23 13:05:53.512   \n",
              "\n",
              "                         ended_at       start_station_name start_station_id  \\\n",
              "15329725  2025-05-31 19:41:36.520      Park Ave & E 124 St          7682.01   \n",
              "15329726  2025-05-24 12:54:32.853  W 34 St & Hudson Blvd E          6535.04   \n",
              "15329727  2025-05-26 22:07:40.490    E 188 St & Hughes Ave          8485.01   \n",
              "15329728  2025-05-30 20:09:03.503          1 Ave & E 38 St          6230.02   \n",
              "15329729  2025-05-23 13:20:04.891      Park Ave & E 124 St          7682.01   \n",
              "\n",
              "                 end_station_name end_station_id  start_lat  start_lng  ...  \\\n",
              "15329725          E 84 St & 1 Ave        7180.02  40.804555 -73.939686  ...   \n",
              "15329726          W 45 St & 8 Ave        6676.02  40.755167 -74.000599  ...   \n",
              "15329727  E 180 St & Monterey Ave        8392.02  40.856100 -73.886250  ...   \n",
              "15329728           E 7 St & Ave C        5545.01  40.746202 -73.971822  ...   \n",
              "15329729          3 Ave & E 72 St        7028.04  40.804555 -73.939686  ...   \n",
              "\n",
              "            end_lng  member_casual trip_duration_min  hour_of_day  \\\n",
              "15329725 -73.950686         member         14.920533           19   \n",
              "15329726 -73.988597         casual         14.271250           12   \n",
              "15329727 -73.893010         member         25.071133           21   \n",
              "15329728 -73.979013         member         11.360983           19   \n",
              "15329729 -73.960607         member         14.189650           13   \n",
              "\n",
              "          day_of_week day_of_week_num  is_weekend  month month_num  year  \n",
              "15329725     Saturday               5        True    May         5  2025  \n",
              "15329726     Saturday               5        True    May         5  2025  \n",
              "15329727       Monday               0       False    May         5  2025  \n",
              "15329728       Friday               4       False    May         5  2025  \n",
              "15329729       Friday               4       False    May         5  2025  \n",
              "\n",
              "[5 rows x 21 columns]"
            ],
            "text/html": [
              "\n",
              "  <div id=\"df-9e6a547a-1765-4d47-bc21-f070b850b7df\" class=\"colab-df-container\">\n",
              "    <div>\n",
              "<style scoped>\n",
              "    .dataframe tbody tr th:only-of-type {\n",
              "        vertical-align: middle;\n",
              "    }\n",
              "\n",
              "    .dataframe tbody tr th {\n",
              "        vertical-align: top;\n",
              "    }\n",
              "\n",
              "    .dataframe thead th {\n",
              "        text-align: right;\n",
              "    }\n",
              "</style>\n",
              "<table border=\"1\" class=\"dataframe\">\n",
              "  <thead>\n",
              "    <tr style=\"text-align: right;\">\n",
              "      <th></th>\n",
              "      <th>ride_id</th>\n",
              "      <th>rideable_type</th>\n",
              "      <th>started_at</th>\n",
              "      <th>ended_at</th>\n",
              "      <th>start_station_name</th>\n",
              "      <th>start_station_id</th>\n",
              "      <th>end_station_name</th>\n",
              "      <th>end_station_id</th>\n",
              "      <th>start_lat</th>\n",
              "      <th>start_lng</th>\n",
              "      <th>...</th>\n",
              "      <th>end_lng</th>\n",
              "      <th>member_casual</th>\n",
              "      <th>trip_duration_min</th>\n",
              "      <th>hour_of_day</th>\n",
              "      <th>day_of_week</th>\n",
              "      <th>day_of_week_num</th>\n",
              "      <th>is_weekend</th>\n",
              "      <th>month</th>\n",
              "      <th>month_num</th>\n",
              "      <th>year</th>\n",
              "    </tr>\n",
              "  </thead>\n",
              "  <tbody>\n",
              "    <tr>\n",
              "      <th>15329725</th>\n",
              "      <td>32F569A2ACCFF1BB</td>\n",
              "      <td>electric_bike</td>\n",
              "      <td>2025-05-31 19:26:41.288</td>\n",
              "      <td>2025-05-31 19:41:36.520</td>\n",
              "      <td>Park Ave &amp; E 124 St</td>\n",
              "      <td>7682.01</td>\n",
              "      <td>E 84 St &amp; 1 Ave</td>\n",
              "      <td>7180.02</td>\n",
              "      <td>40.804555</td>\n",
              "      <td>-73.939686</td>\n",
              "      <td>...</td>\n",
              "      <td>-73.950686</td>\n",
              "      <td>member</td>\n",
              "      <td>14.920533</td>\n",
              "      <td>19</td>\n",
              "      <td>Saturday</td>\n",
              "      <td>5</td>\n",
              "      <td>True</td>\n",
              "      <td>May</td>\n",
              "      <td>5</td>\n",
              "      <td>2025</td>\n",
              "    </tr>\n",
              "    <tr>\n",
              "      <th>15329726</th>\n",
              "      <td>B053663BE4A0AEE3</td>\n",
              "      <td>classic_bike</td>\n",
              "      <td>2025-05-24 12:40:16.578</td>\n",
              "      <td>2025-05-24 12:54:32.853</td>\n",
              "      <td>W 34 St &amp; Hudson Blvd E</td>\n",
              "      <td>6535.04</td>\n",
              "      <td>W 45 St &amp; 8 Ave</td>\n",
              "      <td>6676.02</td>\n",
              "      <td>40.755167</td>\n",
              "      <td>-74.000599</td>\n",
              "      <td>...</td>\n",
              "      <td>-73.988597</td>\n",
              "      <td>casual</td>\n",
              "      <td>14.271250</td>\n",
              "      <td>12</td>\n",
              "      <td>Saturday</td>\n",
              "      <td>5</td>\n",
              "      <td>True</td>\n",
              "      <td>May</td>\n",
              "      <td>5</td>\n",
              "      <td>2025</td>\n",
              "    </tr>\n",
              "    <tr>\n",
              "      <th>15329727</th>\n",
              "      <td>D1DC4D9EA5E3FFC1</td>\n",
              "      <td>classic_bike</td>\n",
              "      <td>2025-05-26 21:42:36.222</td>\n",
              "      <td>2025-05-26 22:07:40.490</td>\n",
              "      <td>E 188 St &amp; Hughes Ave</td>\n",
              "      <td>8485.01</td>\n",
              "      <td>E 180 St &amp; Monterey Ave</td>\n",
              "      <td>8392.02</td>\n",
              "      <td>40.856100</td>\n",
              "      <td>-73.886250</td>\n",
              "      <td>...</td>\n",
              "      <td>-73.893010</td>\n",
              "      <td>member</td>\n",
              "      <td>25.071133</td>\n",
              "      <td>21</td>\n",
              "      <td>Monday</td>\n",
              "      <td>0</td>\n",
              "      <td>False</td>\n",
              "      <td>May</td>\n",
              "      <td>5</td>\n",
              "      <td>2025</td>\n",
              "    </tr>\n",
              "    <tr>\n",
              "      <th>15329728</th>\n",
              "      <td>E461C1E7D327C276</td>\n",
              "      <td>electric_bike</td>\n",
              "      <td>2025-05-30 19:57:41.844</td>\n",
              "      <td>2025-05-30 20:09:03.503</td>\n",
              "      <td>1 Ave &amp; E 38 St</td>\n",
              "      <td>6230.02</td>\n",
              "      <td>E 7 St &amp; Ave C</td>\n",
              "      <td>5545.01</td>\n",
              "      <td>40.746202</td>\n",
              "      <td>-73.971822</td>\n",
              "      <td>...</td>\n",
              "      <td>-73.979013</td>\n",
              "      <td>member</td>\n",
              "      <td>11.360983</td>\n",
              "      <td>19</td>\n",
              "      <td>Friday</td>\n",
              "      <td>4</td>\n",
              "      <td>False</td>\n",
              "      <td>May</td>\n",
              "      <td>5</td>\n",
              "      <td>2025</td>\n",
              "    </tr>\n",
              "    <tr>\n",
              "      <th>15329729</th>\n",
              "      <td>5F2228274547BF40</td>\n",
              "      <td>electric_bike</td>\n",
              "      <td>2025-05-23 13:05:53.512</td>\n",
              "      <td>2025-05-23 13:20:04.891</td>\n",
              "      <td>Park Ave &amp; E 124 St</td>\n",
              "      <td>7682.01</td>\n",
              "      <td>3 Ave &amp; E 72 St</td>\n",
              "      <td>7028.04</td>\n",
              "      <td>40.804555</td>\n",
              "      <td>-73.939686</td>\n",
              "      <td>...</td>\n",
              "      <td>-73.960607</td>\n",
              "      <td>member</td>\n",
              "      <td>14.189650</td>\n",
              "      <td>13</td>\n",
              "      <td>Friday</td>\n",
              "      <td>4</td>\n",
              "      <td>False</td>\n",
              "      <td>May</td>\n",
              "      <td>5</td>\n",
              "      <td>2025</td>\n",
              "    </tr>\n",
              "  </tbody>\n",
              "</table>\n",
              "<p>5 rows × 21 columns</p>\n",
              "</div>\n",
              "    <div class=\"colab-df-buttons\">\n",
              "\n",
              "  <div class=\"colab-df-container\">\n",
              "    <button class=\"colab-df-convert\" onclick=\"convertToInteractive('df-9e6a547a-1765-4d47-bc21-f070b850b7df')\"\n",
              "            title=\"Convert this dataframe to an interactive table.\"\n",
              "            style=\"display:none;\">\n",
              "\n",
              "  <svg xmlns=\"http://www.w3.org/2000/svg\" height=\"24px\" viewBox=\"0 -960 960 960\">\n",
              "    <path d=\"M120-120v-720h720v720H120Zm60-500h600v-160H180v160Zm220 220h160v-160H400v160Zm0 220h160v-160H400v160ZM180-400h160v-160H180v160Zm440 0h160v-160H620v160ZM180-180h160v-160H180v160Zm440 0h160v-160H620v160Z\"/>\n",
              "  </svg>\n",
              "    </button>\n",
              "\n",
              "  <style>\n",
              "    .colab-df-container {\n",
              "      display:flex;\n",
              "      gap: 12px;\n",
              "    }\n",
              "\n",
              "    .colab-df-convert {\n",
              "      background-color: #E8F0FE;\n",
              "      border: none;\n",
              "      border-radius: 50%;\n",
              "      cursor: pointer;\n",
              "      display: none;\n",
              "      fill: #1967D2;\n",
              "      height: 32px;\n",
              "      padding: 0 0 0 0;\n",
              "      width: 32px;\n",
              "    }\n",
              "\n",
              "    .colab-df-convert:hover {\n",
              "      background-color: #E2EBFA;\n",
              "      box-shadow: 0px 1px 2px rgba(60, 64, 67, 0.3), 0px 1px 3px 1px rgba(60, 64, 67, 0.15);\n",
              "      fill: #174EA6;\n",
              "    }\n",
              "\n",
              "    .colab-df-buttons div {\n",
              "      margin-bottom: 4px;\n",
              "    }\n",
              "\n",
              "    [theme=dark] .colab-df-convert {\n",
              "      background-color: #3B4455;\n",
              "      fill: #D2E3FC;\n",
              "    }\n",
              "\n",
              "    [theme=dark] .colab-df-convert:hover {\n",
              "      background-color: #434B5C;\n",
              "      box-shadow: 0px 1px 3px 1px rgba(0, 0, 0, 0.15);\n",
              "      filter: drop-shadow(0px 1px 2px rgba(0, 0, 0, 0.3));\n",
              "      fill: #FFFFFF;\n",
              "    }\n",
              "  </style>\n",
              "\n",
              "    <script>\n",
              "      const buttonEl =\n",
              "        document.querySelector('#df-9e6a547a-1765-4d47-bc21-f070b850b7df button.colab-df-convert');\n",
              "      buttonEl.style.display =\n",
              "        google.colab.kernel.accessAllowed ? 'block' : 'none';\n",
              "\n",
              "      async function convertToInteractive(key) {\n",
              "        const element = document.querySelector('#df-9e6a547a-1765-4d47-bc21-f070b850b7df');\n",
              "        const dataTable =\n",
              "          await google.colab.kernel.invokeFunction('convertToInteractive',\n",
              "                                                    [key], {});\n",
              "        if (!dataTable) return;\n",
              "\n",
              "        const docLinkHtml = 'Like what you see? Visit the ' +\n",
              "          '<a target=\"_blank\" href=https://colab.research.google.com/notebooks/data_table.ipynb>data table notebook</a>'\n",
              "          + ' to learn more about interactive tables.';\n",
              "        element.innerHTML = '';\n",
              "        dataTable['output_type'] = 'display_data';\n",
              "        await google.colab.output.renderOutput(dataTable, element);\n",
              "        const docLink = document.createElement('div');\n",
              "        docLink.innerHTML = docLinkHtml;\n",
              "        element.appendChild(docLink);\n",
              "      }\n",
              "    </script>\n",
              "  </div>\n",
              "\n",
              "\n",
              "    <div id=\"df-83e68bcf-8a82-4dc3-9dd9-67640865e59b\">\n",
              "      <button class=\"colab-df-quickchart\" onclick=\"quickchart('df-83e68bcf-8a82-4dc3-9dd9-67640865e59b')\"\n",
              "                title=\"Suggest charts\"\n",
              "                style=\"display:none;\">\n",
              "\n",
              "<svg xmlns=\"http://www.w3.org/2000/svg\" height=\"24px\"viewBox=\"0 0 24 24\"\n",
              "     width=\"24px\">\n",
              "    <g>\n",
              "        <path d=\"M19 3H5c-1.1 0-2 .9-2 2v14c0 1.1.9 2 2 2h14c1.1 0 2-.9 2-2V5c0-1.1-.9-2-2-2zM9 17H7v-7h2v7zm4 0h-2V7h2v10zm4 0h-2v-4h2v4z\"/>\n",
              "    </g>\n",
              "</svg>\n",
              "      </button>\n",
              "\n",
              "<style>\n",
              "  .colab-df-quickchart {\n",
              "      --bg-color: #E8F0FE;\n",
              "      --fill-color: #1967D2;\n",
              "      --hover-bg-color: #E2EBFA;\n",
              "      --hover-fill-color: #174EA6;\n",
              "      --disabled-fill-color: #AAA;\n",
              "      --disabled-bg-color: #DDD;\n",
              "  }\n",
              "\n",
              "  [theme=dark] .colab-df-quickchart {\n",
              "      --bg-color: #3B4455;\n",
              "      --fill-color: #D2E3FC;\n",
              "      --hover-bg-color: #434B5C;\n",
              "      --hover-fill-color: #FFFFFF;\n",
              "      --disabled-bg-color: #3B4455;\n",
              "      --disabled-fill-color: #666;\n",
              "  }\n",
              "\n",
              "  .colab-df-quickchart {\n",
              "    background-color: var(--bg-color);\n",
              "    border: none;\n",
              "    border-radius: 50%;\n",
              "    cursor: pointer;\n",
              "    display: none;\n",
              "    fill: var(--fill-color);\n",
              "    height: 32px;\n",
              "    padding: 0;\n",
              "    width: 32px;\n",
              "  }\n",
              "\n",
              "  .colab-df-quickchart:hover {\n",
              "    background-color: var(--hover-bg-color);\n",
              "    box-shadow: 0 1px 2px rgba(60, 64, 67, 0.3), 0 1px 3px 1px rgba(60, 64, 67, 0.15);\n",
              "    fill: var(--button-hover-fill-color);\n",
              "  }\n",
              "\n",
              "  .colab-df-quickchart-complete:disabled,\n",
              "  .colab-df-quickchart-complete:disabled:hover {\n",
              "    background-color: var(--disabled-bg-color);\n",
              "    fill: var(--disabled-fill-color);\n",
              "    box-shadow: none;\n",
              "  }\n",
              "\n",
              "  .colab-df-spinner {\n",
              "    border: 2px solid var(--fill-color);\n",
              "    border-color: transparent;\n",
              "    border-bottom-color: var(--fill-color);\n",
              "    animation:\n",
              "      spin 1s steps(1) infinite;\n",
              "  }\n",
              "\n",
              "  @keyframes spin {\n",
              "    0% {\n",
              "      border-color: transparent;\n",
              "      border-bottom-color: var(--fill-color);\n",
              "      border-left-color: var(--fill-color);\n",
              "    }\n",
              "    20% {\n",
              "      border-color: transparent;\n",
              "      border-left-color: var(--fill-color);\n",
              "      border-top-color: var(--fill-color);\n",
              "    }\n",
              "    30% {\n",
              "      border-color: transparent;\n",
              "      border-left-color: var(--fill-color);\n",
              "      border-top-color: var(--fill-color);\n",
              "      border-right-color: var(--fill-color);\n",
              "    }\n",
              "    40% {\n",
              "      border-color: transparent;\n",
              "      border-right-color: var(--fill-color);\n",
              "      border-top-color: var(--fill-color);\n",
              "    }\n",
              "    60% {\n",
              "      border-color: transparent;\n",
              "      border-right-color: var(--fill-color);\n",
              "    }\n",
              "    80% {\n",
              "      border-color: transparent;\n",
              "      border-right-color: var(--fill-color);\n",
              "      border-bottom-color: var(--fill-color);\n",
              "    }\n",
              "    90% {\n",
              "      border-color: transparent;\n",
              "      border-bottom-color: var(--fill-color);\n",
              "    }\n",
              "  }\n",
              "</style>\n",
              "\n",
              "      <script>\n",
              "        async function quickchart(key) {\n",
              "          const quickchartButtonEl =\n",
              "            document.querySelector('#' + key + ' button');\n",
              "          quickchartButtonEl.disabled = true;  // To prevent multiple clicks.\n",
              "          quickchartButtonEl.classList.add('colab-df-spinner');\n",
              "          try {\n",
              "            const charts = await google.colab.kernel.invokeFunction(\n",
              "                'suggestCharts', [key], {});\n",
              "          } catch (error) {\n",
              "            console.error('Error during call to suggestCharts:', error);\n",
              "          }\n",
              "          quickchartButtonEl.classList.remove('colab-df-spinner');\n",
              "          quickchartButtonEl.classList.add('colab-df-quickchart-complete');\n",
              "        }\n",
              "        (() => {\n",
              "          let quickchartButtonEl =\n",
              "            document.querySelector('#df-83e68bcf-8a82-4dc3-9dd9-67640865e59b button');\n",
              "          quickchartButtonEl.style.display =\n",
              "            google.colab.kernel.accessAllowed ? 'block' : 'none';\n",
              "        })();\n",
              "      </script>\n",
              "    </div>\n",
              "\n",
              "    </div>\n",
              "  </div>\n"
            ],
            "application/vnd.google.colaboratory.intrinsic+json": {
              "type": "dataframe"
            }
          },
          "metadata": {},
          "execution_count": 15
        }
      ],
      "source": [
        "df.tail()         # Last 5 rows"
      ]
    },
    {
      "cell_type": "code",
      "execution_count": 16,
      "metadata": {
        "colab": {
          "base_uri": "https://localhost:8080/",
          "height": 338
        },
        "id": "6nwIIsPjvHPG",
        "outputId": "113814bd-231b-41ae-cd49-9b82c5fa320f"
      },
      "outputs": [
        {
          "output_type": "execute_result",
          "data": {
            "text/plain": [
              "                   ride_id  rideable_type               started_at  \\\n",
              "4903233   59F5444FDB0C49A7   classic_bike  2025-03-01 23:12:22.208   \n",
              "4313895   0F28AC6726C5478F   classic_bike  2025-03-05 07:30:18.912   \n",
              "6667369   057194A88F4A39D9  electric_bike  2025-03-27 16:42:37.318   \n",
              "10970128  49A20A46F19D0F8A   classic_bike  2025-04-17 12:45:43.825   \n",
              "2015149   67C57BEC8D94FFAB  electric_bike  2025-01-17 12:17:48.521   \n",
              "\n",
              "                         ended_at      start_station_name start_station_id  \\\n",
              "4903233   2025-03-01 23:15:02.454         E 77 St & 3 Ave          7092.06   \n",
              "4313895   2025-03-05 07:44:34.513          Great Jones St          5636.11   \n",
              "6667369   2025-03-27 16:51:54.240     Court St & State St          4488.08   \n",
              "10970128  2025-04-17 12:50:31.375  Macon St & Patchen Ave          4301.04   \n",
              "2015149   2025-01-17 12:25:53.313   Greenwich Ave & 8 Ave          6072.06   \n",
              "\n",
              "                      end_station_name end_station_id  start_lat  start_lng  \\\n",
              "4903233                E 77 St & 1 Ave        7020.02  40.773142 -73.958562   \n",
              "4313895       Catherine St & Monroe St        5128.04  40.727434 -73.993790   \n",
              "6667369                   5 Ave & 3 St        3987.06  40.690238 -73.992031   \n",
              "10970128  Chauncey St & Malcolm X Blvd        4228.06  40.683740 -73.926100   \n",
              "2015149                W 45 St & 8 Ave        6676.02  40.739017 -74.002638   \n",
              "\n",
              "          ...    end_lng  member_casual trip_duration_min  hour_of_day  \\\n",
              "4903233   ... -73.953562         member          2.670767           23   \n",
              "4313895   ... -73.996826         member         14.260017            7   \n",
              "6667369   ... -73.983524         member          9.282033           16   \n",
              "10970128  ... -73.928420         casual          4.792500           12   \n",
              "2015149   ... -73.988597         member          8.079867           12   \n",
              "\n",
              "          day_of_week day_of_week_num  is_weekend    month month_num  year  \n",
              "4903233      Saturday               5        True    March         3  2025  \n",
              "4313895     Wednesday               2       False    March         3  2025  \n",
              "6667369      Thursday               3       False    March         3  2025  \n",
              "10970128     Thursday               3       False    April         4  2025  \n",
              "2015149        Friday               4       False  January         1  2025  \n",
              "\n",
              "[5 rows x 21 columns]"
            ],
            "text/html": [
              "\n",
              "  <div id=\"df-eb0646e7-0493-4651-b6c6-914ff91c50dc\" class=\"colab-df-container\">\n",
              "    <div>\n",
              "<style scoped>\n",
              "    .dataframe tbody tr th:only-of-type {\n",
              "        vertical-align: middle;\n",
              "    }\n",
              "\n",
              "    .dataframe tbody tr th {\n",
              "        vertical-align: top;\n",
              "    }\n",
              "\n",
              "    .dataframe thead th {\n",
              "        text-align: right;\n",
              "    }\n",
              "</style>\n",
              "<table border=\"1\" class=\"dataframe\">\n",
              "  <thead>\n",
              "    <tr style=\"text-align: right;\">\n",
              "      <th></th>\n",
              "      <th>ride_id</th>\n",
              "      <th>rideable_type</th>\n",
              "      <th>started_at</th>\n",
              "      <th>ended_at</th>\n",
              "      <th>start_station_name</th>\n",
              "      <th>start_station_id</th>\n",
              "      <th>end_station_name</th>\n",
              "      <th>end_station_id</th>\n",
              "      <th>start_lat</th>\n",
              "      <th>start_lng</th>\n",
              "      <th>...</th>\n",
              "      <th>end_lng</th>\n",
              "      <th>member_casual</th>\n",
              "      <th>trip_duration_min</th>\n",
              "      <th>hour_of_day</th>\n",
              "      <th>day_of_week</th>\n",
              "      <th>day_of_week_num</th>\n",
              "      <th>is_weekend</th>\n",
              "      <th>month</th>\n",
              "      <th>month_num</th>\n",
              "      <th>year</th>\n",
              "    </tr>\n",
              "  </thead>\n",
              "  <tbody>\n",
              "    <tr>\n",
              "      <th>4903233</th>\n",
              "      <td>59F5444FDB0C49A7</td>\n",
              "      <td>classic_bike</td>\n",
              "      <td>2025-03-01 23:12:22.208</td>\n",
              "      <td>2025-03-01 23:15:02.454</td>\n",
              "      <td>E 77 St &amp; 3 Ave</td>\n",
              "      <td>7092.06</td>\n",
              "      <td>E 77 St &amp; 1 Ave</td>\n",
              "      <td>7020.02</td>\n",
              "      <td>40.773142</td>\n",
              "      <td>-73.958562</td>\n",
              "      <td>...</td>\n",
              "      <td>-73.953562</td>\n",
              "      <td>member</td>\n",
              "      <td>2.670767</td>\n",
              "      <td>23</td>\n",
              "      <td>Saturday</td>\n",
              "      <td>5</td>\n",
              "      <td>True</td>\n",
              "      <td>March</td>\n",
              "      <td>3</td>\n",
              "      <td>2025</td>\n",
              "    </tr>\n",
              "    <tr>\n",
              "      <th>4313895</th>\n",
              "      <td>0F28AC6726C5478F</td>\n",
              "      <td>classic_bike</td>\n",
              "      <td>2025-03-05 07:30:18.912</td>\n",
              "      <td>2025-03-05 07:44:34.513</td>\n",
              "      <td>Great Jones St</td>\n",
              "      <td>5636.11</td>\n",
              "      <td>Catherine St &amp; Monroe St</td>\n",
              "      <td>5128.04</td>\n",
              "      <td>40.727434</td>\n",
              "      <td>-73.993790</td>\n",
              "      <td>...</td>\n",
              "      <td>-73.996826</td>\n",
              "      <td>member</td>\n",
              "      <td>14.260017</td>\n",
              "      <td>7</td>\n",
              "      <td>Wednesday</td>\n",
              "      <td>2</td>\n",
              "      <td>False</td>\n",
              "      <td>March</td>\n",
              "      <td>3</td>\n",
              "      <td>2025</td>\n",
              "    </tr>\n",
              "    <tr>\n",
              "      <th>6667369</th>\n",
              "      <td>057194A88F4A39D9</td>\n",
              "      <td>electric_bike</td>\n",
              "      <td>2025-03-27 16:42:37.318</td>\n",
              "      <td>2025-03-27 16:51:54.240</td>\n",
              "      <td>Court St &amp; State St</td>\n",
              "      <td>4488.08</td>\n",
              "      <td>5 Ave &amp; 3 St</td>\n",
              "      <td>3987.06</td>\n",
              "      <td>40.690238</td>\n",
              "      <td>-73.992031</td>\n",
              "      <td>...</td>\n",
              "      <td>-73.983524</td>\n",
              "      <td>member</td>\n",
              "      <td>9.282033</td>\n",
              "      <td>16</td>\n",
              "      <td>Thursday</td>\n",
              "      <td>3</td>\n",
              "      <td>False</td>\n",
              "      <td>March</td>\n",
              "      <td>3</td>\n",
              "      <td>2025</td>\n",
              "    </tr>\n",
              "    <tr>\n",
              "      <th>10970128</th>\n",
              "      <td>49A20A46F19D0F8A</td>\n",
              "      <td>classic_bike</td>\n",
              "      <td>2025-04-17 12:45:43.825</td>\n",
              "      <td>2025-04-17 12:50:31.375</td>\n",
              "      <td>Macon St &amp; Patchen Ave</td>\n",
              "      <td>4301.04</td>\n",
              "      <td>Chauncey St &amp; Malcolm X Blvd</td>\n",
              "      <td>4228.06</td>\n",
              "      <td>40.683740</td>\n",
              "      <td>-73.926100</td>\n",
              "      <td>...</td>\n",
              "      <td>-73.928420</td>\n",
              "      <td>casual</td>\n",
              "      <td>4.792500</td>\n",
              "      <td>12</td>\n",
              "      <td>Thursday</td>\n",
              "      <td>3</td>\n",
              "      <td>False</td>\n",
              "      <td>April</td>\n",
              "      <td>4</td>\n",
              "      <td>2025</td>\n",
              "    </tr>\n",
              "    <tr>\n",
              "      <th>2015149</th>\n",
              "      <td>67C57BEC8D94FFAB</td>\n",
              "      <td>electric_bike</td>\n",
              "      <td>2025-01-17 12:17:48.521</td>\n",
              "      <td>2025-01-17 12:25:53.313</td>\n",
              "      <td>Greenwich Ave &amp; 8 Ave</td>\n",
              "      <td>6072.06</td>\n",
              "      <td>W 45 St &amp; 8 Ave</td>\n",
              "      <td>6676.02</td>\n",
              "      <td>40.739017</td>\n",
              "      <td>-74.002638</td>\n",
              "      <td>...</td>\n",
              "      <td>-73.988597</td>\n",
              "      <td>member</td>\n",
              "      <td>8.079867</td>\n",
              "      <td>12</td>\n",
              "      <td>Friday</td>\n",
              "      <td>4</td>\n",
              "      <td>False</td>\n",
              "      <td>January</td>\n",
              "      <td>1</td>\n",
              "      <td>2025</td>\n",
              "    </tr>\n",
              "  </tbody>\n",
              "</table>\n",
              "<p>5 rows × 21 columns</p>\n",
              "</div>\n",
              "    <div class=\"colab-df-buttons\">\n",
              "\n",
              "  <div class=\"colab-df-container\">\n",
              "    <button class=\"colab-df-convert\" onclick=\"convertToInteractive('df-eb0646e7-0493-4651-b6c6-914ff91c50dc')\"\n",
              "            title=\"Convert this dataframe to an interactive table.\"\n",
              "            style=\"display:none;\">\n",
              "\n",
              "  <svg xmlns=\"http://www.w3.org/2000/svg\" height=\"24px\" viewBox=\"0 -960 960 960\">\n",
              "    <path d=\"M120-120v-720h720v720H120Zm60-500h600v-160H180v160Zm220 220h160v-160H400v160Zm0 220h160v-160H400v160ZM180-400h160v-160H180v160Zm440 0h160v-160H620v160ZM180-180h160v-160H180v160Zm440 0h160v-160H620v160Z\"/>\n",
              "  </svg>\n",
              "    </button>\n",
              "\n",
              "  <style>\n",
              "    .colab-df-container {\n",
              "      display:flex;\n",
              "      gap: 12px;\n",
              "    }\n",
              "\n",
              "    .colab-df-convert {\n",
              "      background-color: #E8F0FE;\n",
              "      border: none;\n",
              "      border-radius: 50%;\n",
              "      cursor: pointer;\n",
              "      display: none;\n",
              "      fill: #1967D2;\n",
              "      height: 32px;\n",
              "      padding: 0 0 0 0;\n",
              "      width: 32px;\n",
              "    }\n",
              "\n",
              "    .colab-df-convert:hover {\n",
              "      background-color: #E2EBFA;\n",
              "      box-shadow: 0px 1px 2px rgba(60, 64, 67, 0.3), 0px 1px 3px 1px rgba(60, 64, 67, 0.15);\n",
              "      fill: #174EA6;\n",
              "    }\n",
              "\n",
              "    .colab-df-buttons div {\n",
              "      margin-bottom: 4px;\n",
              "    }\n",
              "\n",
              "    [theme=dark] .colab-df-convert {\n",
              "      background-color: #3B4455;\n",
              "      fill: #D2E3FC;\n",
              "    }\n",
              "\n",
              "    [theme=dark] .colab-df-convert:hover {\n",
              "      background-color: #434B5C;\n",
              "      box-shadow: 0px 1px 3px 1px rgba(0, 0, 0, 0.15);\n",
              "      filter: drop-shadow(0px 1px 2px rgba(0, 0, 0, 0.3));\n",
              "      fill: #FFFFFF;\n",
              "    }\n",
              "  </style>\n",
              "\n",
              "    <script>\n",
              "      const buttonEl =\n",
              "        document.querySelector('#df-eb0646e7-0493-4651-b6c6-914ff91c50dc button.colab-df-convert');\n",
              "      buttonEl.style.display =\n",
              "        google.colab.kernel.accessAllowed ? 'block' : 'none';\n",
              "\n",
              "      async function convertToInteractive(key) {\n",
              "        const element = document.querySelector('#df-eb0646e7-0493-4651-b6c6-914ff91c50dc');\n",
              "        const dataTable =\n",
              "          await google.colab.kernel.invokeFunction('convertToInteractive',\n",
              "                                                    [key], {});\n",
              "        if (!dataTable) return;\n",
              "\n",
              "        const docLinkHtml = 'Like what you see? Visit the ' +\n",
              "          '<a target=\"_blank\" href=https://colab.research.google.com/notebooks/data_table.ipynb>data table notebook</a>'\n",
              "          + ' to learn more about interactive tables.';\n",
              "        element.innerHTML = '';\n",
              "        dataTable['output_type'] = 'display_data';\n",
              "        await google.colab.output.renderOutput(dataTable, element);\n",
              "        const docLink = document.createElement('div');\n",
              "        docLink.innerHTML = docLinkHtml;\n",
              "        element.appendChild(docLink);\n",
              "      }\n",
              "    </script>\n",
              "  </div>\n",
              "\n",
              "\n",
              "    <div id=\"df-ed6c70be-7283-45dd-b725-4b1924594f23\">\n",
              "      <button class=\"colab-df-quickchart\" onclick=\"quickchart('df-ed6c70be-7283-45dd-b725-4b1924594f23')\"\n",
              "                title=\"Suggest charts\"\n",
              "                style=\"display:none;\">\n",
              "\n",
              "<svg xmlns=\"http://www.w3.org/2000/svg\" height=\"24px\"viewBox=\"0 0 24 24\"\n",
              "     width=\"24px\">\n",
              "    <g>\n",
              "        <path d=\"M19 3H5c-1.1 0-2 .9-2 2v14c0 1.1.9 2 2 2h14c1.1 0 2-.9 2-2V5c0-1.1-.9-2-2-2zM9 17H7v-7h2v7zm4 0h-2V7h2v10zm4 0h-2v-4h2v4z\"/>\n",
              "    </g>\n",
              "</svg>\n",
              "      </button>\n",
              "\n",
              "<style>\n",
              "  .colab-df-quickchart {\n",
              "      --bg-color: #E8F0FE;\n",
              "      --fill-color: #1967D2;\n",
              "      --hover-bg-color: #E2EBFA;\n",
              "      --hover-fill-color: #174EA6;\n",
              "      --disabled-fill-color: #AAA;\n",
              "      --disabled-bg-color: #DDD;\n",
              "  }\n",
              "\n",
              "  [theme=dark] .colab-df-quickchart {\n",
              "      --bg-color: #3B4455;\n",
              "      --fill-color: #D2E3FC;\n",
              "      --hover-bg-color: #434B5C;\n",
              "      --hover-fill-color: #FFFFFF;\n",
              "      --disabled-bg-color: #3B4455;\n",
              "      --disabled-fill-color: #666;\n",
              "  }\n",
              "\n",
              "  .colab-df-quickchart {\n",
              "    background-color: var(--bg-color);\n",
              "    border: none;\n",
              "    border-radius: 50%;\n",
              "    cursor: pointer;\n",
              "    display: none;\n",
              "    fill: var(--fill-color);\n",
              "    height: 32px;\n",
              "    padding: 0;\n",
              "    width: 32px;\n",
              "  }\n",
              "\n",
              "  .colab-df-quickchart:hover {\n",
              "    background-color: var(--hover-bg-color);\n",
              "    box-shadow: 0 1px 2px rgba(60, 64, 67, 0.3), 0 1px 3px 1px rgba(60, 64, 67, 0.15);\n",
              "    fill: var(--button-hover-fill-color);\n",
              "  }\n",
              "\n",
              "  .colab-df-quickchart-complete:disabled,\n",
              "  .colab-df-quickchart-complete:disabled:hover {\n",
              "    background-color: var(--disabled-bg-color);\n",
              "    fill: var(--disabled-fill-color);\n",
              "    box-shadow: none;\n",
              "  }\n",
              "\n",
              "  .colab-df-spinner {\n",
              "    border: 2px solid var(--fill-color);\n",
              "    border-color: transparent;\n",
              "    border-bottom-color: var(--fill-color);\n",
              "    animation:\n",
              "      spin 1s steps(1) infinite;\n",
              "  }\n",
              "\n",
              "  @keyframes spin {\n",
              "    0% {\n",
              "      border-color: transparent;\n",
              "      border-bottom-color: var(--fill-color);\n",
              "      border-left-color: var(--fill-color);\n",
              "    }\n",
              "    20% {\n",
              "      border-color: transparent;\n",
              "      border-left-color: var(--fill-color);\n",
              "      border-top-color: var(--fill-color);\n",
              "    }\n",
              "    30% {\n",
              "      border-color: transparent;\n",
              "      border-left-color: var(--fill-color);\n",
              "      border-top-color: var(--fill-color);\n",
              "      border-right-color: var(--fill-color);\n",
              "    }\n",
              "    40% {\n",
              "      border-color: transparent;\n",
              "      border-right-color: var(--fill-color);\n",
              "      border-top-color: var(--fill-color);\n",
              "    }\n",
              "    60% {\n",
              "      border-color: transparent;\n",
              "      border-right-color: var(--fill-color);\n",
              "    }\n",
              "    80% {\n",
              "      border-color: transparent;\n",
              "      border-right-color: var(--fill-color);\n",
              "      border-bottom-color: var(--fill-color);\n",
              "    }\n",
              "    90% {\n",
              "      border-color: transparent;\n",
              "      border-bottom-color: var(--fill-color);\n",
              "    }\n",
              "  }\n",
              "</style>\n",
              "\n",
              "      <script>\n",
              "        async function quickchart(key) {\n",
              "          const quickchartButtonEl =\n",
              "            document.querySelector('#' + key + ' button');\n",
              "          quickchartButtonEl.disabled = true;  // To prevent multiple clicks.\n",
              "          quickchartButtonEl.classList.add('colab-df-spinner');\n",
              "          try {\n",
              "            const charts = await google.colab.kernel.invokeFunction(\n",
              "                'suggestCharts', [key], {});\n",
              "          } catch (error) {\n",
              "            console.error('Error during call to suggestCharts:', error);\n",
              "          }\n",
              "          quickchartButtonEl.classList.remove('colab-df-spinner');\n",
              "          quickchartButtonEl.classList.add('colab-df-quickchart-complete');\n",
              "        }\n",
              "        (() => {\n",
              "          let quickchartButtonEl =\n",
              "            document.querySelector('#df-ed6c70be-7283-45dd-b725-4b1924594f23 button');\n",
              "          quickchartButtonEl.style.display =\n",
              "            google.colab.kernel.accessAllowed ? 'block' : 'none';\n",
              "        })();\n",
              "      </script>\n",
              "    </div>\n",
              "\n",
              "    </div>\n",
              "  </div>\n"
            ],
            "application/vnd.google.colaboratory.intrinsic+json": {
              "type": "dataframe"
            }
          },
          "metadata": {},
          "execution_count": 16
        }
      ],
      "source": [
        "df.sample(5)      # Random 5 rows"
      ]
    },
    {
      "cell_type": "code",
      "execution_count": 17,
      "metadata": {
        "id": "VklcgeRTv4Sw",
        "colab": {
          "base_uri": "https://localhost:8080/"
        },
        "outputId": "248e29d4-aea9-41b4-c68d-9d74d9c7efd4"
      },
      "outputs": [
        {
          "output_type": "execute_result",
          "data": {
            "text/plain": [
              "(15329730, 21)"
            ]
          },
          "metadata": {},
          "execution_count": 17
        }
      ],
      "source": [
        "df.shape"
      ]
    },
    {
      "cell_type": "code",
      "execution_count": 18,
      "metadata": {
        "colab": {
          "base_uri": "https://localhost:8080/",
          "height": 204
        },
        "id": "xBZiCjbM7Gqf",
        "outputId": "492dc97e-10fe-49d2-fdff-1d07a36b3f28"
      },
      "outputs": [
        {
          "output_type": "execute_result",
          "data": {
            "text/plain": [
              "                started_at  hour_of_day day_of_week  is_weekend    month\n",
              "0  2025-01-01 22:19:06.324           22   Wednesday       False  January\n",
              "1  2025-01-09 15:20:43.991           15    Thursday       False  January\n",
              "2  2025-01-01 12:54:26.571           12   Wednesday       False  January\n",
              "3  2025-01-14 13:43:59.151           13     Tuesday       False  January\n",
              "4  2025-01-13 07:20:37.176            7      Monday       False  January"
            ],
            "text/html": [
              "\n",
              "  <div id=\"df-3e275796-2a2a-4120-a8fb-a61493b01f3a\" class=\"colab-df-container\">\n",
              "    <div>\n",
              "<style scoped>\n",
              "    .dataframe tbody tr th:only-of-type {\n",
              "        vertical-align: middle;\n",
              "    }\n",
              "\n",
              "    .dataframe tbody tr th {\n",
              "        vertical-align: top;\n",
              "    }\n",
              "\n",
              "    .dataframe thead th {\n",
              "        text-align: right;\n",
              "    }\n",
              "</style>\n",
              "<table border=\"1\" class=\"dataframe\">\n",
              "  <thead>\n",
              "    <tr style=\"text-align: right;\">\n",
              "      <th></th>\n",
              "      <th>started_at</th>\n",
              "      <th>hour_of_day</th>\n",
              "      <th>day_of_week</th>\n",
              "      <th>is_weekend</th>\n",
              "      <th>month</th>\n",
              "    </tr>\n",
              "  </thead>\n",
              "  <tbody>\n",
              "    <tr>\n",
              "      <th>0</th>\n",
              "      <td>2025-01-01 22:19:06.324</td>\n",
              "      <td>22</td>\n",
              "      <td>Wednesday</td>\n",
              "      <td>False</td>\n",
              "      <td>January</td>\n",
              "    </tr>\n",
              "    <tr>\n",
              "      <th>1</th>\n",
              "      <td>2025-01-09 15:20:43.991</td>\n",
              "      <td>15</td>\n",
              "      <td>Thursday</td>\n",
              "      <td>False</td>\n",
              "      <td>January</td>\n",
              "    </tr>\n",
              "    <tr>\n",
              "      <th>2</th>\n",
              "      <td>2025-01-01 12:54:26.571</td>\n",
              "      <td>12</td>\n",
              "      <td>Wednesday</td>\n",
              "      <td>False</td>\n",
              "      <td>January</td>\n",
              "    </tr>\n",
              "    <tr>\n",
              "      <th>3</th>\n",
              "      <td>2025-01-14 13:43:59.151</td>\n",
              "      <td>13</td>\n",
              "      <td>Tuesday</td>\n",
              "      <td>False</td>\n",
              "      <td>January</td>\n",
              "    </tr>\n",
              "    <tr>\n",
              "      <th>4</th>\n",
              "      <td>2025-01-13 07:20:37.176</td>\n",
              "      <td>7</td>\n",
              "      <td>Monday</td>\n",
              "      <td>False</td>\n",
              "      <td>January</td>\n",
              "    </tr>\n",
              "  </tbody>\n",
              "</table>\n",
              "</div>\n",
              "    <div class=\"colab-df-buttons\">\n",
              "\n",
              "  <div class=\"colab-df-container\">\n",
              "    <button class=\"colab-df-convert\" onclick=\"convertToInteractive('df-3e275796-2a2a-4120-a8fb-a61493b01f3a')\"\n",
              "            title=\"Convert this dataframe to an interactive table.\"\n",
              "            style=\"display:none;\">\n",
              "\n",
              "  <svg xmlns=\"http://www.w3.org/2000/svg\" height=\"24px\" viewBox=\"0 -960 960 960\">\n",
              "    <path d=\"M120-120v-720h720v720H120Zm60-500h600v-160H180v160Zm220 220h160v-160H400v160Zm0 220h160v-160H400v160ZM180-400h160v-160H180v160Zm440 0h160v-160H620v160ZM180-180h160v-160H180v160Zm440 0h160v-160H620v160Z\"/>\n",
              "  </svg>\n",
              "    </button>\n",
              "\n",
              "  <style>\n",
              "    .colab-df-container {\n",
              "      display:flex;\n",
              "      gap: 12px;\n",
              "    }\n",
              "\n",
              "    .colab-df-convert {\n",
              "      background-color: #E8F0FE;\n",
              "      border: none;\n",
              "      border-radius: 50%;\n",
              "      cursor: pointer;\n",
              "      display: none;\n",
              "      fill: #1967D2;\n",
              "      height: 32px;\n",
              "      padding: 0 0 0 0;\n",
              "      width: 32px;\n",
              "    }\n",
              "\n",
              "    .colab-df-convert:hover {\n",
              "      background-color: #E2EBFA;\n",
              "      box-shadow: 0px 1px 2px rgba(60, 64, 67, 0.3), 0px 1px 3px 1px rgba(60, 64, 67, 0.15);\n",
              "      fill: #174EA6;\n",
              "    }\n",
              "\n",
              "    .colab-df-buttons div {\n",
              "      margin-bottom: 4px;\n",
              "    }\n",
              "\n",
              "    [theme=dark] .colab-df-convert {\n",
              "      background-color: #3B4455;\n",
              "      fill: #D2E3FC;\n",
              "    }\n",
              "\n",
              "    [theme=dark] .colab-df-convert:hover {\n",
              "      background-color: #434B5C;\n",
              "      box-shadow: 0px 1px 3px 1px rgba(0, 0, 0, 0.15);\n",
              "      filter: drop-shadow(0px 1px 2px rgba(0, 0, 0, 0.3));\n",
              "      fill: #FFFFFF;\n",
              "    }\n",
              "  </style>\n",
              "\n",
              "    <script>\n",
              "      const buttonEl =\n",
              "        document.querySelector('#df-3e275796-2a2a-4120-a8fb-a61493b01f3a button.colab-df-convert');\n",
              "      buttonEl.style.display =\n",
              "        google.colab.kernel.accessAllowed ? 'block' : 'none';\n",
              "\n",
              "      async function convertToInteractive(key) {\n",
              "        const element = document.querySelector('#df-3e275796-2a2a-4120-a8fb-a61493b01f3a');\n",
              "        const dataTable =\n",
              "          await google.colab.kernel.invokeFunction('convertToInteractive',\n",
              "                                                    [key], {});\n",
              "        if (!dataTable) return;\n",
              "\n",
              "        const docLinkHtml = 'Like what you see? Visit the ' +\n",
              "          '<a target=\"_blank\" href=https://colab.research.google.com/notebooks/data_table.ipynb>data table notebook</a>'\n",
              "          + ' to learn more about interactive tables.';\n",
              "        element.innerHTML = '';\n",
              "        dataTable['output_type'] = 'display_data';\n",
              "        await google.colab.output.renderOutput(dataTable, element);\n",
              "        const docLink = document.createElement('div');\n",
              "        docLink.innerHTML = docLinkHtml;\n",
              "        element.appendChild(docLink);\n",
              "      }\n",
              "    </script>\n",
              "  </div>\n",
              "\n",
              "\n",
              "    <div id=\"df-63c81364-69a9-4219-9998-4d915044cbdb\">\n",
              "      <button class=\"colab-df-quickchart\" onclick=\"quickchart('df-63c81364-69a9-4219-9998-4d915044cbdb')\"\n",
              "                title=\"Suggest charts\"\n",
              "                style=\"display:none;\">\n",
              "\n",
              "<svg xmlns=\"http://www.w3.org/2000/svg\" height=\"24px\"viewBox=\"0 0 24 24\"\n",
              "     width=\"24px\">\n",
              "    <g>\n",
              "        <path d=\"M19 3H5c-1.1 0-2 .9-2 2v14c0 1.1.9 2 2 2h14c1.1 0 2-.9 2-2V5c0-1.1-.9-2-2-2zM9 17H7v-7h2v7zm4 0h-2V7h2v10zm4 0h-2v-4h2v4z\"/>\n",
              "    </g>\n",
              "</svg>\n",
              "      </button>\n",
              "\n",
              "<style>\n",
              "  .colab-df-quickchart {\n",
              "      --bg-color: #E8F0FE;\n",
              "      --fill-color: #1967D2;\n",
              "      --hover-bg-color: #E2EBFA;\n",
              "      --hover-fill-color: #174EA6;\n",
              "      --disabled-fill-color: #AAA;\n",
              "      --disabled-bg-color: #DDD;\n",
              "  }\n",
              "\n",
              "  [theme=dark] .colab-df-quickchart {\n",
              "      --bg-color: #3B4455;\n",
              "      --fill-color: #D2E3FC;\n",
              "      --hover-bg-color: #434B5C;\n",
              "      --hover-fill-color: #FFFFFF;\n",
              "      --disabled-bg-color: #3B4455;\n",
              "      --disabled-fill-color: #666;\n",
              "  }\n",
              "\n",
              "  .colab-df-quickchart {\n",
              "    background-color: var(--bg-color);\n",
              "    border: none;\n",
              "    border-radius: 50%;\n",
              "    cursor: pointer;\n",
              "    display: none;\n",
              "    fill: var(--fill-color);\n",
              "    height: 32px;\n",
              "    padding: 0;\n",
              "    width: 32px;\n",
              "  }\n",
              "\n",
              "  .colab-df-quickchart:hover {\n",
              "    background-color: var(--hover-bg-color);\n",
              "    box-shadow: 0 1px 2px rgba(60, 64, 67, 0.3), 0 1px 3px 1px rgba(60, 64, 67, 0.15);\n",
              "    fill: var(--button-hover-fill-color);\n",
              "  }\n",
              "\n",
              "  .colab-df-quickchart-complete:disabled,\n",
              "  .colab-df-quickchart-complete:disabled:hover {\n",
              "    background-color: var(--disabled-bg-color);\n",
              "    fill: var(--disabled-fill-color);\n",
              "    box-shadow: none;\n",
              "  }\n",
              "\n",
              "  .colab-df-spinner {\n",
              "    border: 2px solid var(--fill-color);\n",
              "    border-color: transparent;\n",
              "    border-bottom-color: var(--fill-color);\n",
              "    animation:\n",
              "      spin 1s steps(1) infinite;\n",
              "  }\n",
              "\n",
              "  @keyframes spin {\n",
              "    0% {\n",
              "      border-color: transparent;\n",
              "      border-bottom-color: var(--fill-color);\n",
              "      border-left-color: var(--fill-color);\n",
              "    }\n",
              "    20% {\n",
              "      border-color: transparent;\n",
              "      border-left-color: var(--fill-color);\n",
              "      border-top-color: var(--fill-color);\n",
              "    }\n",
              "    30% {\n",
              "      border-color: transparent;\n",
              "      border-left-color: var(--fill-color);\n",
              "      border-top-color: var(--fill-color);\n",
              "      border-right-color: var(--fill-color);\n",
              "    }\n",
              "    40% {\n",
              "      border-color: transparent;\n",
              "      border-right-color: var(--fill-color);\n",
              "      border-top-color: var(--fill-color);\n",
              "    }\n",
              "    60% {\n",
              "      border-color: transparent;\n",
              "      border-right-color: var(--fill-color);\n",
              "    }\n",
              "    80% {\n",
              "      border-color: transparent;\n",
              "      border-right-color: var(--fill-color);\n",
              "      border-bottom-color: var(--fill-color);\n",
              "    }\n",
              "    90% {\n",
              "      border-color: transparent;\n",
              "      border-bottom-color: var(--fill-color);\n",
              "    }\n",
              "  }\n",
              "</style>\n",
              "\n",
              "      <script>\n",
              "        async function quickchart(key) {\n",
              "          const quickchartButtonEl =\n",
              "            document.querySelector('#' + key + ' button');\n",
              "          quickchartButtonEl.disabled = true;  // To prevent multiple clicks.\n",
              "          quickchartButtonEl.classList.add('colab-df-spinner');\n",
              "          try {\n",
              "            const charts = await google.colab.kernel.invokeFunction(\n",
              "                'suggestCharts', [key], {});\n",
              "          } catch (error) {\n",
              "            console.error('Error during call to suggestCharts:', error);\n",
              "          }\n",
              "          quickchartButtonEl.classList.remove('colab-df-spinner');\n",
              "          quickchartButtonEl.classList.add('colab-df-quickchart-complete');\n",
              "        }\n",
              "        (() => {\n",
              "          let quickchartButtonEl =\n",
              "            document.querySelector('#df-63c81364-69a9-4219-9998-4d915044cbdb button');\n",
              "          quickchartButtonEl.style.display =\n",
              "            google.colab.kernel.accessAllowed ? 'block' : 'none';\n",
              "        })();\n",
              "      </script>\n",
              "    </div>\n",
              "\n",
              "    </div>\n",
              "  </div>\n"
            ],
            "application/vnd.google.colaboratory.intrinsic+json": {
              "type": "dataframe",
              "summary": "{\n  \"name\": \"df[['started_at', 'hour_of_day', 'day_of_week', 'is_weekend', 'month']]\",\n  \"rows\": 5,\n  \"fields\": [\n    {\n      \"column\": \"started_at\",\n      \"properties\": {\n        \"dtype\": \"object\",\n        \"num_unique_values\": 5,\n        \"samples\": [\n          \"2025-01-09 15:20:43.991\",\n          \"2025-01-13 07:20:37.176\",\n          \"2025-01-01 12:54:26.571\"\n        ],\n        \"semantic_type\": \"\",\n        \"description\": \"\"\n      }\n    },\n    {\n      \"column\": \"hour_of_day\",\n      \"properties\": {\n        \"dtype\": \"number\",\n        \"std\": 5,\n        \"min\": 7,\n        \"max\": 22,\n        \"num_unique_values\": 5,\n        \"samples\": [\n          15,\n          7,\n          12\n        ],\n        \"semantic_type\": \"\",\n        \"description\": \"\"\n      }\n    },\n    {\n      \"column\": \"day_of_week\",\n      \"properties\": {\n        \"dtype\": \"string\",\n        \"num_unique_values\": 4,\n        \"samples\": [\n          \"Thursday\",\n          \"Monday\",\n          \"Wednesday\"\n        ],\n        \"semantic_type\": \"\",\n        \"description\": \"\"\n      }\n    },\n    {\n      \"column\": \"is_weekend\",\n      \"properties\": {\n        \"dtype\": \"boolean\",\n        \"num_unique_values\": 1,\n        \"samples\": [\n          false\n        ],\n        \"semantic_type\": \"\",\n        \"description\": \"\"\n      }\n    },\n    {\n      \"column\": \"month\",\n      \"properties\": {\n        \"dtype\": \"category\",\n        \"num_unique_values\": 1,\n        \"samples\": [\n          \"January\"\n        ],\n        \"semantic_type\": \"\",\n        \"description\": \"\"\n      }\n    }\n  ]\n}"
            }
          },
          "metadata": {},
          "execution_count": 18
        }
      ],
      "source": [
        "df[['started_at', 'hour_of_day', 'day_of_week', 'is_weekend', 'month']].head()"
      ]
    },
    {
      "cell_type": "markdown",
      "metadata": {
        "id": "630ni0cw6PBh"
      },
      "source": [
        "**Usage Patterns (Basic)**"
      ]
    },
    {
      "cell_type": "code",
      "execution_count": 19,
      "metadata": {
        "colab": {
          "base_uri": "https://localhost:8080/",
          "height": 176
        },
        "id": "D7wwfIPEwnCx",
        "outputId": "c0e23cea-d00c-46d1-a131-f76bfae6f976"
      },
      "outputs": [
        {
          "output_type": "execute_result",
          "data": {
            "text/plain": [
              "member_casual\n",
              "member    13044118\n",
              "casual     2285612\n",
              "Name: count, dtype: int64"
            ],
            "text/html": [
              "<div>\n",
              "<style scoped>\n",
              "    .dataframe tbody tr th:only-of-type {\n",
              "        vertical-align: middle;\n",
              "    }\n",
              "\n",
              "    .dataframe tbody tr th {\n",
              "        vertical-align: top;\n",
              "    }\n",
              "\n",
              "    .dataframe thead th {\n",
              "        text-align: right;\n",
              "    }\n",
              "</style>\n",
              "<table border=\"1\" class=\"dataframe\">\n",
              "  <thead>\n",
              "    <tr style=\"text-align: right;\">\n",
              "      <th></th>\n",
              "      <th>count</th>\n",
              "    </tr>\n",
              "    <tr>\n",
              "      <th>member_casual</th>\n",
              "      <th></th>\n",
              "    </tr>\n",
              "  </thead>\n",
              "  <tbody>\n",
              "    <tr>\n",
              "      <th>member</th>\n",
              "      <td>13044118</td>\n",
              "    </tr>\n",
              "    <tr>\n",
              "      <th>casual</th>\n",
              "      <td>2285612</td>\n",
              "    </tr>\n",
              "  </tbody>\n",
              "</table>\n",
              "</div><br><label><b>dtype:</b> int64</label>"
            ]
          },
          "metadata": {},
          "execution_count": 19
        }
      ],
      "source": [
        "df['member_casual'].value_counts()"
      ]
    },
    {
      "cell_type": "code",
      "execution_count": 20,
      "metadata": {
        "colab": {
          "base_uri": "https://localhost:8080/",
          "height": 176
        },
        "id": "Kz9uhMXmwnAJ",
        "outputId": "33a3228a-65f3-44ec-fcb4-badf909a03bb"
      },
      "outputs": [
        {
          "output_type": "execute_result",
          "data": {
            "text/plain": [
              "rideable_type\n",
              "electric_bike    10693769\n",
              "classic_bike      4635961\n",
              "Name: count, dtype: int64"
            ],
            "text/html": [
              "<div>\n",
              "<style scoped>\n",
              "    .dataframe tbody tr th:only-of-type {\n",
              "        vertical-align: middle;\n",
              "    }\n",
              "\n",
              "    .dataframe tbody tr th {\n",
              "        vertical-align: top;\n",
              "    }\n",
              "\n",
              "    .dataframe thead th {\n",
              "        text-align: right;\n",
              "    }\n",
              "</style>\n",
              "<table border=\"1\" class=\"dataframe\">\n",
              "  <thead>\n",
              "    <tr style=\"text-align: right;\">\n",
              "      <th></th>\n",
              "      <th>count</th>\n",
              "    </tr>\n",
              "    <tr>\n",
              "      <th>rideable_type</th>\n",
              "      <th></th>\n",
              "    </tr>\n",
              "  </thead>\n",
              "  <tbody>\n",
              "    <tr>\n",
              "      <th>electric_bike</th>\n",
              "      <td>10693769</td>\n",
              "    </tr>\n",
              "    <tr>\n",
              "      <th>classic_bike</th>\n",
              "      <td>4635961</td>\n",
              "    </tr>\n",
              "  </tbody>\n",
              "</table>\n",
              "</div><br><label><b>dtype:</b> int64</label>"
            ]
          },
          "metadata": {},
          "execution_count": 20
        }
      ],
      "source": [
        "df['rideable_type'].value_counts()"
      ]
    },
    {
      "cell_type": "code",
      "execution_count": 21,
      "metadata": {
        "colab": {
          "base_uri": "https://localhost:8080/",
          "height": 424
        },
        "id": "eG4Oc2l160Pk",
        "outputId": "8144f001-26ba-4324-e99a-4de8978c3f00"
      },
      "outputs": [
        {
          "output_type": "execute_result",
          "data": {
            "text/plain": [
              "start_station_name\n",
              "W 21 St & 6 Ave             58181\n",
              "Pier 61 at Chelsea Piers    53369\n",
              "Lafayette St & E 8 St       49346\n",
              "W 31 St & 7 Ave             48180\n",
              "9 Ave & W 33 St             45550\n",
              "West St & Chambers St       44772\n",
              "Broadway & E 14 St          44512\n",
              "University Pl & E 14 St     44505\n",
              "11 Ave & W 41 St            43682\n",
              "Ave A & E 14 St             42707\n",
              "Name: count, dtype: int64"
            ],
            "text/html": [
              "<div>\n",
              "<style scoped>\n",
              "    .dataframe tbody tr th:only-of-type {\n",
              "        vertical-align: middle;\n",
              "    }\n",
              "\n",
              "    .dataframe tbody tr th {\n",
              "        vertical-align: top;\n",
              "    }\n",
              "\n",
              "    .dataframe thead th {\n",
              "        text-align: right;\n",
              "    }\n",
              "</style>\n",
              "<table border=\"1\" class=\"dataframe\">\n",
              "  <thead>\n",
              "    <tr style=\"text-align: right;\">\n",
              "      <th></th>\n",
              "      <th>count</th>\n",
              "    </tr>\n",
              "    <tr>\n",
              "      <th>start_station_name</th>\n",
              "      <th></th>\n",
              "    </tr>\n",
              "  </thead>\n",
              "  <tbody>\n",
              "    <tr>\n",
              "      <th>W 21 St &amp; 6 Ave</th>\n",
              "      <td>58181</td>\n",
              "    </tr>\n",
              "    <tr>\n",
              "      <th>Pier 61 at Chelsea Piers</th>\n",
              "      <td>53369</td>\n",
              "    </tr>\n",
              "    <tr>\n",
              "      <th>Lafayette St &amp; E 8 St</th>\n",
              "      <td>49346</td>\n",
              "    </tr>\n",
              "    <tr>\n",
              "      <th>W 31 St &amp; 7 Ave</th>\n",
              "      <td>48180</td>\n",
              "    </tr>\n",
              "    <tr>\n",
              "      <th>9 Ave &amp; W 33 St</th>\n",
              "      <td>45550</td>\n",
              "    </tr>\n",
              "    <tr>\n",
              "      <th>West St &amp; Chambers St</th>\n",
              "      <td>44772</td>\n",
              "    </tr>\n",
              "    <tr>\n",
              "      <th>Broadway &amp; E 14 St</th>\n",
              "      <td>44512</td>\n",
              "    </tr>\n",
              "    <tr>\n",
              "      <th>University Pl &amp; E 14 St</th>\n",
              "      <td>44505</td>\n",
              "    </tr>\n",
              "    <tr>\n",
              "      <th>11 Ave &amp; W 41 St</th>\n",
              "      <td>43682</td>\n",
              "    </tr>\n",
              "    <tr>\n",
              "      <th>Ave A &amp; E 14 St</th>\n",
              "      <td>42707</td>\n",
              "    </tr>\n",
              "  </tbody>\n",
              "</table>\n",
              "</div><br><label><b>dtype:</b> int64</label>"
            ]
          },
          "metadata": {},
          "execution_count": 21
        }
      ],
      "source": [
        "df['start_station_name'].value_counts().head(10)"
      ]
    },
    {
      "cell_type": "markdown",
      "metadata": {
        "id": "OQHqrUW97oEx"
      },
      "source": [
        "**Checking max and min dates**"
      ]
    },
    {
      "cell_type": "code",
      "execution_count": 22,
      "metadata": {
        "colab": {
          "base_uri": "https://localhost:8080/"
        },
        "id": "Eg-6YQvJ7YLp",
        "outputId": "86f5148a-0bab-48e9-b5c7-3e31608e7f76"
      },
      "outputs": [
        {
          "output_type": "stream",
          "name": "stdout",
          "text": [
            "Start Date: 2024-12-31 12:54:23.643\n",
            "End Date:   2025-05-31 23:58:06.793\n"
          ]
        }
      ],
      "source": [
        "print(\"Start Date:\", df['started_at'].min())\n",
        "print(\"End Date:  \", df['started_at'].max())"
      ]
    },
    {
      "cell_type": "code",
      "execution_count": null,
      "metadata": {
        "colab": {
          "base_uri": "https://localhost:8080/"
        },
        "id": "FUJZW-2EId3D",
        "outputId": "e16ddfcc-d87b-455d-9e8d-c8ec2221a580"
      },
      "outputs": [
        {
          "output_type": "stream",
          "name": "stdout",
          "text": [
            "Null started_at count: 0\n"
          ]
        }
      ],
      "source": [
        "print(\"Null started_at count:\", df['started_at'].isna().sum())"
      ]
    },
    {
      "cell_type": "code",
      "execution_count": null,
      "metadata": {
        "colab": {
          "base_uri": "https://localhost:8080/"
        },
        "id": "FY5xHFKxIjNd",
        "outputId": "0c45f5c3-cb25-4840-a1e9-3d6585e1d51d"
      },
      "outputs": [
        {
          "output_type": "stream",
          "name": "stdout",
          "text": [
            "Total rows: 15329730\n"
          ]
        }
      ],
      "source": [
        "print(\"Total rows:\", df.shape[0])\n",
        "print(\"Unique rows:\", df.drop_duplicates().shape[0])"
      ]
    },
    {
      "cell_type": "code",
      "execution_count": 5,
      "metadata": {
        "id": "6m6dvylW7CC8",
        "colab": {
          "base_uri": "https://localhost:8080/",
          "height": 504
        },
        "outputId": "4af20a20-1158-41db-c80a-ab30dc4770e7"
      },
      "outputs": [
        {
          "output_type": "execute_result",
          "data": {
            "text/plain": [
              "Text(0, 0.5, 'Number of Rides')"
            ]
          },
          "metadata": {},
          "execution_count": 5
        },
        {
          "output_type": "display_data",
          "data": {
            "text/plain": [
              "<Figure size 1000x500 with 1 Axes>"
            ],
            "image/png": "[encoded data removed]"
          },
          "metadata": {}
        }
      ],
      "source": [
        "import seaborn as sns\n",
        "import matplotlib.pyplot as plt\n",
        "\n",
        "monthly = df.groupby('month_num')['ride_id'].count().sort_index()\n",
        "plt.figure(figsize=(10, 5))\n",
        "sns.barplot(x=monthly.index, y=monthly.values)\n",
        "plt.title('Total Rides per Month')\n",
        "plt.xlabel('Month')\n",
        "plt.ylabel('Number of Rides')"
      ]
    },
    {
      "cell_type": "code",
      "source": [
        "hourly = df.groupby('hour_of_day')['trip_duration_min'].mean()\n",
        "sns.lineplot(x=hourly.index, y=hourly.values)\n",
        "plt.title('Average Trip Duration by Hour')\n",
        "plt.xlabel('Hour of Day')\n",
        "plt.ylabel('Duration (min)')"
      ],
      "metadata": {
        "colab": {
          "base_uri": "https://localhost:8080/",
          "height": 489
        },
        "id": "dz6-ipORib0X",
        "outputId": "0ed82405-e339-494e-d9ac-cab3b896ea48"
      },
      "execution_count": 6,
      "outputs": [
        {
          "output_type": "execute_result",
          "data": {
            "text/plain": [
              "Text(0, 0.5, 'Duration (min)')"
            ]
          },
          "metadata": {},
          "execution_count": 6
        },
        {
          "output_type": "display_data",
          "data": {
            "text/plain": [
              "<Figure size 640x480 with 1 Axes>"
            ],
            "image/png": "[encoded data removed]"
          },
          "metadata": {}
        }
      ]
    },
    {
      "cell_type": "markdown",
      "source": [
        "\t1.\tWhich month had the most bike rides?\n",
        "\t2.\tWhich day of the week is the busiest for rides?\n",
        "\t3.\tWhat time of day do most rides happen?\n",
        "\t4.\tDo weekdays vs weekends show different usage patterns?\n",
        "\t5.\tHow has usage changed over the year? (seasonal trend)\n",
        "  6.\tWhat percentage of rides come from members vs. casual users?\n",
        "  7.\tDo members ride more consistently throughout the week than casual users?\n",
        "\t8.\tWhich bike types are preferred by each membership group?\n",
        "  9.\tWhat are the top 10 most used start stations?\n",
        "  10.\tAre there specific stations more popular with members vs. casuals?\n",
        "  11.\tWhat is the average trip duration by bike type?\n",
        "\n"
      ],
      "metadata": {
        "id": "fA_Fw3RLcAub"
      }
    },
    {
      "cell_type": "code",
      "source": [
        "# Rides by month\n",
        "monthly_rides = df.groupby('month')[['ride_id']].count().reset_index()\n",
        "\n",
        "# Rides by day of week\n",
        "weekday_rides = df.groupby('day_of_week')[['ride_id']].count().reset_index()\n",
        "\n",
        "# Rides by hour of day\n",
        "hourly_rides = df.groupby('hour_of_day')[['ride_id']].count().reset_index()\n",
        "\n",
        "# Weekend vs weekday comparison\n",
        "weekend_rides = df.groupby('is_weekend')[['ride_id']].count().reset_index()\n",
        "\n",
        "# Rides by user type\n",
        "user_type_pct = df['member_casual'].value_counts(normalize=True) * 100\n",
        "\n",
        "# Bike preference by user type\n",
        "bike_user_combo = df.groupby(['member_casual', 'rideable_type'])[['ride_id']].count().reset_index()\n",
        "\n",
        "# Average trip duration by bike type\n",
        "avg_trip_by_bike = df.groupby('rideable_type')['trip_duration_min'].mean().reset_index()\n",
        "\n",
        "# Top 10 start stations\n",
        "top_start_stations = df['start_station_name'].value_counts().head(10).reset_index()\n",
        "top_start_stations.columns = ['start_station_name', 'ride_count']\n",
        "\n",
        "# Start stations by user type\n",
        "station_user = df.groupby(['start_station_name', 'member_casual'])[['ride_id']].count().reset_index()"
      ],
      "metadata": {
        "id": "QLGWDbOiZyvL"
      },
      "execution_count": 5,
      "outputs": []
    },
    {
      "cell_type": "code",
      "source": [
        "monthly_rides.to_csv('/content/drive/MyDrive/monthly_rides.csv', index=False)\n",
        "weekday_rides.to_csv('/content/drive/MyDrive/weekday_rides.csv', index=False)\n",
        "hourly_rides.to_csv('/content/drive/MyDrive/hourly_rides.csv', index=False)\n",
        "bike_user_combo.to_csv('/content/drive/MyDrive/bike_user_combo.csv', index=False)\n",
        "top_start_stations.to_csv('/content/drive/MyDrive/top_start_stations.csv', index=False)\n",
        "station_user.to_csv('/content/drive/MyDrive/station_user.csv', index=False)"
      ],
      "metadata": {
        "id": "lyG-Adu-g1Mp"
      },
      "execution_count": 6,
      "outputs": []
    },
    {
      "cell_type": "code",
      "source": [
        "summary = {\n",
        "    'Total Rides': len(df),\n",
        "    'Avg Trip Duration (min)': df['trip_duration_min'].mean(),\n",
        "    'Member %': user_type_pct['member'],\n",
        "    'Casual %': user_type_pct['casual'],\n",
        "    'Top Station': df['start_station_name'].value_counts().idxmax()\n",
        "}\n",
        "pd.DataFrame([summary]).to_csv('/content/drive/MyDrive/summary.csv', index=False)"
      ],
      "metadata": {
        "id": "qHU2_dgsfWWQ"
      },
      "execution_count": 7,
      "outputs": []
    },
    {
      "cell_type": "markdown",
      "source": [
        "# **1. Which month had the most bike rides?**"
      ],
      "metadata": {
        "id": "YdzjZMSLhj9U"
      }
    },
    {
      "cell_type": "code",
      "source": [
        "#customize palette and style (for seaborn)\n",
        "sns.set_style('whitegrid')\n",
        "sns.set_palette(\"Set2\")"
      ],
      "metadata": {
        "id": "EaOAhcZ0hMyy"
      },
      "execution_count": 8,
      "outputs": []
    },
    {
      "cell_type": "code",
      "source": [
        "import seaborn as sns\n",
        "import matplotlib.pyplot as plt\n",
        "import pandas as pd\n",
        "\n",
        "# Group by month number to keep correct order\n",
        "monthly_rides = df.groupby('month_num')['ride_id'].count().reset_index()\n",
        "\n",
        "# Rename for clarity\n",
        "monthly_rides.columns = ['month_num', 'total_rides']\n",
        "\n",
        "# Add month names for labeling\n",
        "monthly_rides['month'] = monthly_rides['month_num'].apply(lambda x: pd.to_datetime(str(x), format='%m').strftime('%B'))\n",
        "\n",
        "# Sort by month number to ensure calendar order\n",
        "monthly_rides = monthly_rides.sort_values('month_num')\n",
        "\n",
        "# Plot\n",
        "plt.figure(figsize=(10, 6))\n",
        "sns.barplot(x='month', y='total_rides', data=monthly_rides)\n",
        "plt.title('Total Number of Rides by Month')\n",
        "plt.xlabel('Month')\n",
        "plt.ylabel('Total Rides')\n",
        "plt.xticks(rotation=45)\n",
        "plt.tight_layout()\n",
        "plt.show()"
      ],
      "metadata": {
        "colab": {
          "base_uri": "https://localhost:8080/",
          "height": 607
        },
        "id": "5oTeozu9m1ka",
        "outputId": "0f85bb95-5ef3-440c-ea74-5a375a97cce3"
      },
      "execution_count": 9,
      "outputs": [
        {
          "output_type": "display_data",
          "data": {
            "text/plain": [
              "<Figure size 1000x600 with 1 Axes>"
            ],
            "image/png": "[encoded data removed]"
          },
          "metadata": {}
        }
      ]
    },
    {
      "cell_type": "code",
      "source": [
        "df[df['month_num'] == 12].shape"
      ],
      "metadata": {
        "colab": {
          "base_uri": "https://localhost:8080/"
        },
        "id": "Te86ymrRnHEa",
        "outputId": "317621d1-5c06-4a5f-f718-8e8111ebcb3a"
      },
      "execution_count": 10,
      "outputs": [
        {
          "output_type": "execute_result",
          "data": {
            "text/plain": [
              "(182, 21)"
            ]
          },
          "metadata": {},
          "execution_count": 10
        }
      ]
    },
    {
      "cell_type": "code",
      "source": [
        "plt.figure(figsize=(10, 6))\n",
        "barplot = sns.barplot(x='month', y='total_rides', data=monthly_rides, color='firebrick')\n",
        "\n",
        "# Add labels\n",
        "for p in barplot.patches:\n",
        "    height = int(p.get_height())\n",
        "    barplot.annotate(f'{height:,}', (p.get_x() + p.get_width() / 2, height),\n",
        "                     ha='center', va='bottom', fontsize=9)\n",
        "\n",
        "plt.title('Total Number of Rides by Month')\n",
        "plt.xlabel('Month')\n",
        "plt.ylabel('Total Rides')\n",
        "plt.xticks(rotation=45)\n",
        "plt.tight_layout()\n",
        "plt.show()"
      ],
      "metadata": {
        "colab": {
          "base_uri": "https://localhost:8080/",
          "height": 607
        },
        "id": "L1jf8SsYnM-s",
        "outputId": "4e79798a-77ed-4023-c8e3-a4eb01adbe40"
      },
      "execution_count": 11,
      "outputs": [
        {
          "output_type": "display_data",
          "data": {
            "text/plain": [
              "<Figure size 1000x600 with 1 Axes>"
            ],
            "image/png": "[encoded data removed]"
          },
          "metadata": {}
        }
      ]
    },
    {
      "cell_type": "markdown",
      "source": [
        "# **2.    Which day of the week is the busiest for rides?**"
      ],
      "metadata": {
        "id": "sJeZu4QNhpQa"
      }
    },
    {
      "cell_type": "code",
      "source": [
        "import seaborn as sns\n",
        "import matplotlib.pyplot as plt\n",
        "import pandas as pd\n",
        "\n",
        "# Group by day of the week\n",
        "day_of_week_col = df.groupby('day_of_week')['ride_id'].count().reset_index()\n",
        "day_of_week_col.columns = ['day_of_week', 'total_rides']\n",
        "\n",
        "# Define custom sort order for days\n",
        "ordered_days = ['Monday', 'Tuesday', 'Wednesday', 'Thursday', 'Friday', 'Saturday', 'Sunday']\n",
        "day_of_week_col['day_of_week'] = pd.Categorical(day_of_week_col['day_of_week'], categories=ordered_days, ordered=True)\n",
        "day_of_week_col = day_of_week_col.sort_values('day_of_week')\n",
        "\n",
        "# Plot\n",
        "plt.figure(figsize=(10, 6))\n",
        "sns.barplot(x='day_of_week', y='total_rides', data=day_of_week_col, color='royalblue')\n",
        "plt.title('Total Rides by Day of the Week')\n",
        "plt.xlabel('Day of the Week')\n",
        "plt.ylabel('Total Rides')\n",
        "plt.xticks(rotation=45)\n",
        "plt.tight_layout()\n",
        "plt.show()"
      ],
      "metadata": {
        "colab": {
          "base_uri": "https://localhost:8080/",
          "height": 607
        },
        "id": "ciAo7RiWhsSJ",
        "outputId": "eaea8164-3ab4-45b1-a598-a1ace6fcb6df"
      },
      "execution_count": 12,
      "outputs": [
        {
          "output_type": "display_data",
          "data": {
            "text/plain": [
              "<Figure size 1000x600 with 1 Axes>"
            ],
            "image/png": "[encoded data removed]"
          },
          "metadata": {}
        }
      ]
    },
    {
      "cell_type": "markdown",
      "source": [
        "# **3.    What time of day do most rides happen?**"
      ],
      "metadata": {
        "id": "JbV8nFhppwRu"
      }
    },
    {
      "cell_type": "code",
      "source": [
        "import matplotlib.pyplot as plt\n",
        "import seaborn as sns\n",
        "\n",
        "# Group and count rides per hour\n",
        "hourly_rides = df.groupby('hour_of_day')['ride_id'].count().reset_index()\n",
        "hourly_rides.columns = ['hour_of_day', 'total_rides']\n",
        "\n",
        "# Plot\n",
        "plt.figure(figsize=(12, 6))\n",
        "sns.barplot(x='hour_of_day', y='total_rides', data=hourly_rides, color='mediumseagreen')\n",
        "plt.title('Total Rides by Hour of the Day')\n",
        "plt.xlabel('Hour of Day (24h)')\n",
        "plt.ylabel('Total Rides')\n",
        "plt.xticks(range(0, 24))\n",
        "plt.tight_layout()\n",
        "plt.show()"
      ],
      "metadata": {
        "colab": {
          "base_uri": "https://localhost:8080/",
          "height": 560
        },
        "id": "4Ho-xZ1npiWS",
        "outputId": "d51d9b77-fe33-4aba-a347-d8a3a1d0812d"
      },
      "execution_count": 13,
      "outputs": [
        {
          "output_type": "display_data",
          "data": {
            "text/plain": [
              "<Figure size 1200x600 with 1 Axes>"
            ],
            "image/png": "[encoded data removed]"
          },
          "metadata": {}
        }
      ]
    },
    {
      "cell_type": "markdown",
      "source": [
        "# **4.    Do weekdays vs weekends show different usage patterns?**"
      ],
      "metadata": {
        "id": "RnHQhIMoqNLN"
      }
    },
    {
      "cell_type": "code",
      "source": [
        "import matplotlib.pyplot as plt\n",
        "import seaborn as sns\n",
        "\n",
        "# Group and count\n",
        "weekend_summary = df.groupby('is_weekend')['ride_id'].count().reset_index()\n",
        "weekend_summary['day_type'] = weekend_summary['is_weekend'].map({False: 'Weekday', True: 'Weekend'})\n",
        "weekend_summary.columns = ['is_weekend', 'total_rides', 'day_type']\n",
        "\n",
        "# Plot\n",
        "plt.figure(figsize=(6, 5))\n",
        "sns.barplot(x='day_type', y='total_rides', data=weekend_summary, palette='Set2')\n",
        "plt.title('Total Rides: Weekday vs Weekend')\n",
        "plt.ylabel('Total Rides')\n",
        "plt.xlabel('')\n",
        "plt.tight_layout()\n",
        "plt.show()"
      ],
      "metadata": {
        "colab": {
          "base_uri": "https://localhost:8080/",
          "height": 612
        },
        "id": "McmftihpqD1C",
        "outputId": "92e18cd4-8cf1-4837-c322-fdc3d1d5f2b3"
      },
      "execution_count": 14,
      "outputs": [
        {
          "output_type": "stream",
          "name": "stderr",
          "text": [
            "/tmp/ipython-input-14-2942206074.py:11: FutureWarning: \n",
            "\n",
            "Passing `palette` without assigning `hue` is deprecated and will be removed in v0.14.0. Assign the `x` variable to `hue` and set `legend=False` for the same effect.\n",
            "\n",
            "  sns.barplot(x='day_type', y='total_rides', data=weekend_summary, palette='Set2')\n"
          ]
        },
        {
          "output_type": "display_data",
          "data": {
            "text/plain": [
              "<Figure size 600x500 with 1 Axes>"
            ],
            "image/png": "[encoded data removed]"
          },
          "metadata": {}
        }
      ]
    },
    {
      "cell_type": "code",
      "source": [
        "hour_daytype = df.groupby(['hour_of_day', 'is_weekend'])['ride_id'].count().reset_index()\n",
        "hour_daytype['day_type'] = hour_daytype['is_weekend'].map({False: 'Weekday', True: 'Weekend'})\n",
        "\n",
        "plt.figure(figsize=(12, 6))\n",
        "sns.lineplot(data=hour_daytype, x='hour_of_day', y='ride_id', hue='day_type', marker='o')\n",
        "plt.title('Ride Volume by Hour: Weekday vs Weekend')\n",
        "plt.xlabel('Hour of Day')\n",
        "plt.ylabel('Total Rides')\n",
        "plt.xticks(range(0, 24))\n",
        "plt.tight_layout()\n",
        "plt.show()"
      ],
      "metadata": {
        "colab": {
          "base_uri": "https://localhost:8080/",
          "height": 560
        },
        "id": "PR4MBLx8qSoL",
        "outputId": "c601e528-9754-4149-8296-6b915a3f373f"
      },
      "execution_count": 15,
      "outputs": [
        {
          "output_type": "display_data",
          "data": {
            "text/plain": [
              "<Figure size 1200x600 with 1 Axes>"
            ],
            "image/png": "[encoded data removed]"
          },
          "metadata": {}
        }
      ]
    },
    {
      "cell_type": "markdown",
      "source": [
        "# **5.    How has usage changed over the year? (seasonal trend)**"
      ],
      "metadata": {
        "id": "AHrh2hT6qhGM"
      }
    },
    {
      "cell_type": "code",
      "source": [
        "import matplotlib.pyplot as plt\n",
        "import seaborn as sns\n",
        "\n",
        "# Group by year + month for seasonal trend\n",
        "seasonality = (\n",
        "    df.groupby(['year', 'month_num'])\n",
        "    .agg(total_rides=('ride_id', 'count'))\n",
        "    .reset_index()\n",
        ")\n",
        "\n",
        "# Create datetime for plotting (optional for better x-axis)\n",
        "seasonality['date'] = pd.to_datetime(seasonality['year'].astype(str) + '-' + seasonality['month_num'].astype(str) + '-01')\n",
        "\n",
        "# Sort by date\n",
        "seasonality = seasonality.sort_values('date')\n",
        "\n",
        "# Plot\n",
        "plt.figure(figsize=(14, 6))\n",
        "sns.lineplot(data=seasonality, x='date', y='total_rides', marker='o')\n",
        "plt.title('Seasonal Trend: Ride Volume Over the Year')\n",
        "plt.xlabel('Month')\n",
        "plt.ylabel('Total Rides')\n",
        "plt.xticks(rotation=45)\n",
        "plt.tight_layout()\n",
        "plt.show()"
      ],
      "metadata": {
        "colab": {
          "base_uri": "https://localhost:8080/",
          "height": 482
        },
        "id": "U6SzaLYvqioo",
        "outputId": "dce8f3dd-951d-4511-c899-f51c0f445a29"
      },
      "execution_count": 16,
      "outputs": [
        {
          "output_type": "display_data",
          "data": {
            "text/plain": [
              "<Figure size 1400x600 with 1 Axes>"
            ],
            "image/png": "[encoded data removed]"
          },
          "metadata": {}
        }
      ]
    },
    {
      "cell_type": "code",
      "source": [
        "seasonality_user = (\n",
        "    df.groupby(['year', 'month_num', 'member_casual'])\n",
        "    .agg(total_rides=('ride_id', 'count'))\n",
        "    .reset_index()\n",
        ")\n",
        "seasonality_user['date'] = pd.to_datetime(seasonality_user['year'].astype(str) + '-' + seasonality_user['month_num'].astype(str) + '-01')\n",
        "\n",
        "plt.figure(figsize=(14, 6))\n",
        "sns.lineplot(data=seasonality_user, x='date', y='total_rides', hue='member_casual', marker='o')\n",
        "plt.title('Seasonal Trends by User Type')\n",
        "plt.xlabel('Month')\n",
        "plt.ylabel('Total Rides')\n",
        "plt.xticks(rotation=45)\n",
        "plt.tight_layout()\n",
        "plt.show()"
      ],
      "metadata": {
        "colab": {
          "base_uri": "https://localhost:8080/",
          "height": 482
        },
        "id": "bqnlEugfstKS",
        "outputId": "1a76ab47-231d-4f9e-fca3-7f96d045f3de"
      },
      "execution_count": 17,
      "outputs": [
        {
          "output_type": "display_data",
          "data": {
            "text/plain": [
              "<Figure size 1400x600 with 1 Axes>"
            ],
            "image/png": "[encoded data removed]"
          },
          "metadata": {}
        }
      ]
    },
    {
      "cell_type": "markdown",
      "source": [
        "# **6. What percentage of rides come from members vs. casual users?**"
      ],
      "metadata": {
        "id": "8PZ2eQWXs1ip"
      }
    },
    {
      "cell_type": "code",
      "source": [
        "import matplotlib.pyplot as plt\n",
        "\n",
        "# Calculate percentage\n",
        "user_type_pct = df['member_casual'].value_counts(normalize=True).reset_index()\n",
        "user_type_pct.columns = ['member_casual', 'percentage']\n",
        "user_type_pct['percentage'] *= 100\n",
        "\n",
        "# Display\n",
        "print(user_type_pct)"
      ],
      "metadata": {
        "colab": {
          "base_uri": "https://localhost:8080/"
        },
        "id": "CyKGNVf2tBEG",
        "outputId": "0f3dc6b6-ae8d-4df3-c5ae-7ed8daf51624"
      },
      "execution_count": 18,
      "outputs": [
        {
          "output_type": "stream",
          "name": "stdout",
          "text": [
            "  member_casual  percentage\n",
            "0        member   85.090331\n",
            "1        casual   14.909669\n"
          ]
        }
      ]
    },
    {
      "cell_type": "code",
      "source": [
        "plt.figure(figsize=(6, 6))\n",
        "plt.pie(user_type_pct['percentage'], labels=user_type_pct['member_casual'], autopct='%1.1f%%', startangle=90, colors=['skyblue', 'lightcoral'])\n",
        "plt.title('Ride Share: Members vs Casual Users')\n",
        "plt.axis('equal')  # Equal aspect ratio for perfect circle\n",
        "plt.show()"
      ],
      "metadata": {
        "colab": {
          "base_uri": "https://localhost:8080/",
          "height": 521
        },
        "id": "-GNYxI9ptHgY",
        "outputId": "e68a8376-b16f-40ba-e2e5-2f37c1b7c03e"
      },
      "execution_count": 20,
      "outputs": [
        {
          "output_type": "display_data",
          "data": {
            "text/plain": [
              "<Figure size 600x600 with 1 Axes>"
            ],
            "image/png": "[encoded data removed]"
          },
          "metadata": {}
        }
      ]
    },
    {
      "cell_type": "markdown",
      "source": [
        "# **7. Do members ride more consistently throughout the week than casual users?**"
      ],
      "metadata": {
        "id": "vFSZqw-JtRAt"
      }
    },
    {
      "cell_type": "code",
      "source": [
        "import pandas as pd\n",
        "import matplotlib.pyplot as plt\n",
        "import seaborn as sns\n",
        "\n",
        "# Define proper weekday order\n",
        "weekday_order = ['Monday', 'Tuesday', 'Wednesday', 'Thursday', 'Friday', 'Saturday', 'Sunday']\n",
        "\n",
        "# Group by day of week + user type\n",
        "weekly_consistency = (\n",
        "    df.groupby(['day_of_week', 'member_casual'])['ride_id']\n",
        "    .count()\n",
        "    .reset_index()\n",
        ")\n",
        "\n",
        "# Ensure correct day order\n",
        "weekly_consistency['day_of_week'] = pd.Categorical(weekly_consistency['day_of_week'], categories=weekday_order, ordered=True)\n",
        "weekly_consistency = weekly_consistency.sort_values('day_of_week')\n",
        "\n",
        "# Plot\n",
        "plt.figure(figsize=(10, 6))\n",
        "sns.lineplot(data=weekly_consistency, x='day_of_week', y='ride_id', hue='member_casual', marker='o')\n",
        "plt.title('Ride Consistency by Day: Members vs Casual Users')\n",
        "plt.xlabel('Day of the Week')\n",
        "plt.ylabel('Number of Rides')\n",
        "plt.tight_layout()\n",
        "plt.show()"
      ],
      "metadata": {
        "colab": {
          "base_uri": "https://localhost:8080/",
          "height": 607
        },
        "id": "XZQ-bGLytRYH",
        "outputId": "2f7de358-07c2-4db1-f2cf-917c2929a53e"
      },
      "execution_count": 21,
      "outputs": [
        {
          "output_type": "display_data",
          "data": {
            "text/plain": [
              "<Figure size 1000x600 with 1 Axes>"
            ],
            "image/png": "[encoded data removed]"
          },
          "metadata": {}
        }
      ]
    },
    {
      "cell_type": "markdown",
      "source": [
        "# **8. What are the top 10 most used start stations?**"
      ],
      "metadata": {
        "id": "PHRYwW0uthPi"
      }
    },
    {
      "cell_type": "code",
      "source": [
        "# What are the top 10 most used start stations?\n",
        "top_start_stations = df['start_station_name'].value_counts().head(10).reset_index()\n",
        "top_start_stations.columns = ['start_station_name', 'total_rides']\n",
        "\n",
        "# Display\n",
        "print(top_start_stations)\n",
        "\n",
        "#plot\n",
        "plt.figure(figsize=(10, 6))\n",
        "sns.barplot(x='start_station_name', y='total_rides', data=top_start_stations, color='green')\n",
        "plt.title('Top 10 Most Used Start Stations')\n",
        "plt.xlabel('Start Station Name')\n",
        "plt.ylabel('Total Rides')\n",
        "plt.xticks(rotation=45)\n",
        "plt.tight_layout()\n",
        "plt.show()"
      ],
      "metadata": {
        "colab": {
          "base_uri": "https://localhost:8080/",
          "height": 794
        },
        "id": "2hpHrQvzw9_x",
        "outputId": "2140043f-059c-41ce-9d20-ba022f8eb8c8"
      },
      "execution_count": 22,
      "outputs": [
        {
          "output_type": "stream",
          "name": "stdout",
          "text": [
            "         start_station_name  total_rides\n",
            "0           W 21 St & 6 Ave        58181\n",
            "1  Pier 61 at Chelsea Piers        53369\n",
            "2     Lafayette St & E 8 St        49346\n",
            "3           W 31 St & 7 Ave        48180\n",
            "4           9 Ave & W 33 St        45550\n",
            "5     West St & Chambers St        44772\n",
            "6        Broadway & E 14 St        44512\n",
            "7   University Pl & E 14 St        44505\n",
            "8          11 Ave & W 41 St        43682\n",
            "9           Ave A & E 14 St        42707\n"
          ]
        },
        {
          "output_type": "display_data",
          "data": {
            "text/plain": [
              "<Figure size 1000x600 with 1 Axes>"
            ],
            "image/png": "[encoded data removed]"
          },
          "metadata": {}
        }
      ]
    },
    {
      "cell_type": "markdown",
      "source": [
        "# **9. Are there specific stations more popular with members vs. casuals?**"
      ],
      "metadata": {
        "id": "P0GlWS66tjX7"
      }
    },
    {
      "cell_type": "code",
      "source": [
        "# Are there top 10 specific stations more popular with members vs. casual riders?\n",
        "station_user = df.groupby(['start_station_name', 'member_casual'])['ride_id'].count().reset_index()\n",
        "station_user.columns = ['start_station_name', 'member_casual', 'ride_id']\n",
        "\n",
        "#\n",
        "station_user = station_user.sort_values('ride_id', ascending=False).head(10)\n",
        "\n",
        "# Display\n",
        "print(station_user)\n",
        "\n",
        "#plot\n",
        "#plt.figure(figsize=(12, 6))\n",
        "sns.barplot(x='start_station_name', y='ride_id', hue='member_casual', data=station_user, palette='Set2')\n",
        "plt.title('Popular Start Stations by User Type')\n",
        "plt.xlabel('Start Station Name')\n",
        "plt.ylabel('Total Rides')\n",
        "plt.xticks(rotation=45)\n",
        "plt.tight_layout()\n",
        "plt.show()"
      ],
      "metadata": {
        "colab": {
          "base_uri": "https://localhost:8080/",
          "height": 674
        },
        "id": "P280UR5btxRf",
        "outputId": "2c720cef-b750-4eb3-bf9e-248b2f5a2a1a"
      },
      "execution_count": 23,
      "outputs": [
        {
          "output_type": "stream",
          "name": "stdout",
          "text": [
            "            start_station_name member_casual  ride_id\n",
            "3966           W 21 St & 6 Ave        member    53379\n",
            "3298  Pier 61 at Chelsea Piers        member    44707\n",
            "2782     Lafayette St & E 8 St        member    44270\n",
            "4006           W 31 St & 7 Ave        member    41521\n",
            "938            9 Ave & W 33 St        member    39918\n",
            "3796   University Pl & E 14 St        member    38914\n",
            "1266        Broadway & E 14 St        member    38766\n",
            "1108           Ave A & E 14 St        member    38762\n",
            "77            11 Ave & W 41 St        member    38183\n",
            "21             1 Ave & E 68 St        member    36372\n"
          ]
        },
        {
          "output_type": "display_data",
          "data": {
            "text/plain": [
              "<Figure size 640x480 with 1 Axes>"
            ],
            "image/png": "[encoded data removed]"
          },
          "metadata": {}
        }
      ]
    },
    {
      "cell_type": "markdown",
      "source": [
        "# **10. What is the average trip duration by bike type?**"
      ],
      "metadata": {
        "id": "p2YRhwppto1q"
      }
    },
    {
      "cell_type": "code",
      "source": [
        "# What is the average trip duration by bike type?\n",
        "avg_trip_by_bike = df.groupby('rideable_type')['trip_duration_min'].mean().reset_index()\n",
        "\n",
        "# Display\n",
        "print(avg_trip_by_bike)"
      ],
      "metadata": {
        "colab": {
          "base_uri": "https://localhost:8080/"
        },
        "id": "uRTytvK2tw6l",
        "outputId": "8e6b431f-0e2b-48f9-fad4-c676ecf70062"
      },
      "execution_count": 24,
      "outputs": [
        {
          "output_type": "stream",
          "name": "stdout",
          "text": [
            "   rideable_type  trip_duration_min\n",
            "0   classic_bike          12.064187\n",
            "1  electric_bike          11.265052\n"
          ]
        }
      ]
    },
    {
      "cell_type": "code",
      "source": [
        "import pandas as pd\n",
        "\n",
        "# Load the cleaned file\n",
        "df = pd.read_csv('/content/drive/MyDrive/final_cleaned.csv', parse_dates=['started_at', 'ended_at'])\n",
        "\n",
        "# Feature Engineering\n",
        "df['trip_duration_min'] = (df['ended_at'] - df['started_at']).dt.total_seconds() / 60\n",
        "df['hour_of_day'] = df['started_at'].dt.hour\n",
        "df['day_of_week'] = df['started_at'].dt.day_name()\n",
        "df['day_of_week_num'] = df['started_at'].dt.dayofweek\n",
        "df['is_weekend'] = df['day_of_week_num'] >= 5\n",
        "df['month'] = df['started_at'].dt.month_name()\n",
        "df['month_num'] = df['started_at'].dt.month\n",
        "df['year'] = df['started_at'].dt.year\n",
        "\n",
        "# Save with features\n",
        "df.to_csv('/content/drive/MyDrive/final_cleaned_with_features.csv', index=False)\n",
        "print(\"✅ Features added and saved.\")"
      ],
      "metadata": {
        "colab": {
          "base_uri": "https://localhost:8080/"
        },
        "id": "qJBKx7E53Tap",
        "outputId": "281c75da-fd05-4a5a-c00c-c15124883a3a"
      },
      "execution_count": 1,
      "outputs": [
        {
          "output_type": "stream",
          "name": "stderr",
          "text": [
            "/tmp/ipython-input-1-1961191022.py:4: DtypeWarning: Columns (5,7) have mixed types. Specify dtype option on import or set low_memory=False.\n",
            "  df = pd.read_csv('/content/drive/MyDrive/final_cleaned.csv', parse_dates=['started_at', 'ended_at'])\n"
          ]
        },
        {
          "output_type": "stream",
          "name": "stdout",
          "text": [
            "✅ Features added and saved.\n"
          ]
        }
      ]
    },
    {
      "cell_type": "code",
      "source": [
        "import pandas as pd\n",
        "\n",
        "# Load a smaller sample (safe even in free Colab)\n",
        "df = pd.read_csv('/content/drive/MyDrive/final_cleaned_with_features.csv', nrows=500_000)\n",
        "\n",
        "# Optional: check your columns\n",
        "print(df.columns)"
      ],
      "metadata": {
        "colab": {
          "base_uri": "https://localhost:8080/"
        },
        "id": "UxCVIxJl98pg",
        "outputId": "7451a2ba-c3f6-4795-bad2-d38c63f77fd5"
      },
      "execution_count": 3,
      "outputs": [
        {
          "output_type": "stream",
          "name": "stderr",
          "text": [
            "/tmp/ipython-input-3-973352279.py:4: DtypeWarning: Columns (5,7) have mixed types. Specify dtype option on import or set low_memory=False.\n",
            "  df = pd.read_csv('/content/drive/MyDrive/final_cleaned_with_features.csv', nrows=500_000)\n"
          ]
        },
        {
          "output_type": "stream",
          "name": "stdout",
          "text": [
            "Index(['ride_id', 'rideable_type', 'started_at', 'ended_at',\n",
            "       'start_station_name', 'start_station_id', 'end_station_name',\n",
            "       'end_station_id', 'start_lat', 'start_lng', 'end_lat', 'end_lng',\n",
            "       'member_casual', 'trip_duration_min', 'hour_of_day', 'day_of_week',\n",
            "       'day_of_week_num', 'is_weekend', 'month', 'month_num', 'year'],\n",
            "      dtype='object')\n"
          ]
        }
      ]
    },
    {
      "cell_type": "code",
      "source": [
        "monthly_rides = df.groupby('month')[['ride_id']].count().reset_index()\n",
        "monthly_rides.to_csv('/content/drive/MyDrive/monthly_rides.csv', index=False)"
      ],
      "metadata": {
        "id": "UG4VEHeU-BJS"
      },
      "execution_count": 4,
      "outputs": []
    },
    {
      "cell_type": "code",
      "source": [
        "weekday_rides = df.groupby('day_of_week')[['ride_id']].count().reset_index()\n",
        "weekday_rides.to_csv('/content/drive/MyDrive/weekday_rides.csv', index=False)"
      ],
      "metadata": {
        "id": "Q23skI0l-CmO"
      },
      "execution_count": 5,
      "outputs": []
    },
    {
      "cell_type": "code",
      "source": [
        "hourly_rides = df.groupby('hour_of_day')[['ride_id']].count().reset_index()\n",
        "hourly_rides.to_csv('/content/drive/MyDrive/hourly_rides.csv', index=False)"
      ],
      "metadata": {
        "id": "o4Fn46mv-GbC"
      },
      "execution_count": 6,
      "outputs": []
    },
    {
      "cell_type": "code",
      "source": [
        "user_type_pct = df['member_casual'].value_counts(normalize=True).reset_index()\n",
        "user_type_pct.columns = ['member_casual', 'percentage']\n",
        "user_type_pct['percentage'] *= 100\n",
        "user_type_pct.to_csv('/content/drive/MyDrive/user_type_percentage.csv', index=False)"
      ],
      "metadata": {
        "id": "kgcK_lve-IKr"
      },
      "execution_count": 7,
      "outputs": []
    },
    {
      "cell_type": "code",
      "source": [
        "weekday_order = ['Monday', 'Tuesday', 'Wednesday', 'Thursday', 'Friday', 'Saturday', 'Sunday']\n",
        "\n",
        "weekly_consistency = df.groupby(['day_of_week', 'member_casual'])['ride_id'].count().reset_index()\n",
        "weekly_consistency['day_of_week'] = pd.Categorical(weekly_consistency['day_of_week'], categories=weekday_order, ordered=True)\n",
        "weekly_consistency = weekly_consistency.sort_values('day_of_week')\n",
        "\n",
        "weekly_consistency.to_csv('/content/drive/MyDrive/weekly_consistency.csv', index=False)"
      ],
      "metadata": {
        "id": "y4jP9zIL-vO9"
      },
      "execution_count": 12,
      "outputs": []
    },
    {
      "cell_type": "code",
      "source": [
        "bike_user_combo = df.groupby(['member_casual', 'rideable_type'])[['ride_id']].count().reset_index()\n",
        "bike_user_combo.to_csv('/content/drive/MyDrive/bike_user_combo.csv', index=False)"
      ],
      "metadata": {
        "id": "wIk9uzwr-KId"
      },
      "execution_count": 8,
      "outputs": []
    },
    {
      "cell_type": "code",
      "source": [
        "avg_trip_by_bike = df.groupby('rideable_type')['trip_duration_min'].mean().reset_index()\n",
        "avg_trip_by_bike.to_csv('/content/drive/MyDrive/avg_trip_by_bike_type.csv', index=False)"
      ],
      "metadata": {
        "id": "yuhXyAQM-MLt"
      },
      "execution_count": 9,
      "outputs": []
    },
    {
      "cell_type": "code",
      "source": [
        "top_start_stations = df['start_station_name'].value_counts().head(10).reset_index()\n",
        "top_start_stations.columns = ['start_station_name', 'ride_count']\n",
        "top_start_stations.to_csv('/content/drive/MyDrive/top_start_stations.csv', index=False)"
      ],
      "metadata": {
        "id": "mcrsIdKt-ONs"
      },
      "execution_count": 10,
      "outputs": []
    },
    {
      "cell_type": "code",
      "source": [
        "station_user = df.groupby(['start_station_name', 'member_casual'])[['ride_id']].count().reset_index()\n",
        "station_user.to_csv('/content/drive/MyDrive/station_user.csv', index=False)"
      ],
      "metadata": {
        "id": "V7Jcctix-PnP"
      },
      "execution_count": 11,
      "outputs": []
    },
    {
      "cell_type": "code",
      "source": [
        "station_user = df.groupby(['start_station_name', 'member_casual'])['ride_id'].count().reset_index()\n",
        "station_user.columns = ['start_station_name', 'member_casual', 'ride_id']\n",
        "station_user = station_user.sort_values('ride_id', ascending=False).head(10)\n",
        "station_user.to_csv('/content/drive/MyDrive/popular_stations_by_user.csv', index=False)"
      ],
      "metadata": {
        "id": "L52GCEPb-0sd"
      },
      "execution_count": 13,
      "outputs": []
    },
    {
      "cell_type": "markdown",
      "source": [
        "# **----------Did Not Used These Codes---------------------------**"
      ],
      "metadata": {
        "id": "-M9chM6T_IKF"
      }
    },
    {
      "cell_type": "markdown",
      "metadata": {
        "id": "KJrC6GMsg_wi"
      },
      "source": [
        "# **WEATHER DATA**"
      ]
    },
    {
      "cell_type": "code",
      "source": [
        "import psutil\n",
        "print(f\"RAM Available: {psutil.virtual_memory().available / 1024**3:.2f} GB\")"
      ],
      "metadata": {
        "colab": {
          "base_uri": "https://localhost:8080/"
        },
        "id": "onynhS3n9AzG",
        "outputId": "cc932bd3-d944-4943-f7b7-68b1fe8aea50"
      },
      "execution_count": 1,
      "outputs": [
        {
          "output_type": "stream",
          "name": "stdout",
          "text": [
            "RAM Available: 11.13 GB\n"
          ]
        }
      ]
    },
    {
      "cell_type": "code",
      "execution_count": null,
      "metadata": {
        "id": "yb8FpJD_n47w"
      },
      "outputs": [],
      "source": [
        "!pip install openmeteo-requests\n",
        "!pip install requests-cache retry-requests numpy pandas"
      ]
    },
    {
      "cell_type": "code",
      "execution_count": null,
      "metadata": {
        "id": "BpbYDmEln7Wj"
      },
      "outputs": [],
      "source": [
        "import openmeteo_requests\n",
        "\n",
        "import requests_cache\n",
        "import pandas as pd\n",
        "from retry_requests import retry\n",
        "\n",
        "# Setup the Open-Meteo API client with cache and retry on error\n",
        "cache_session = requests_cache.CachedSession('.cache', expire_after = -1)\n",
        "retry_session = retry(cache_session, retries = 5, backoff_factor = 0.2)\n",
        "openmeteo = openmeteo_requests.Client(session = retry_session)\n",
        "\n",
        "# Make sure all required weather variables are listed here\n",
        "# The order of variables in hourly or daily is important to assign them correctly below\n",
        "url = \"https://archive-api.open-meteo.com/v1/archive\"\n",
        "params = {\n",
        "\t\"latitude\": 52.52,\n",
        "\t\"longitude\": 13.41,\n",
        "\t\"start_date\": \"2024-06-01\",\n",
        "\t\"end_date\": \"2024-09-30\",\n",
        "\t\"hourly\": \"temperature_2m\"\n",
        "}\n",
        "responses = openmeteo.weather_api(url, params=params)\n",
        "\n",
        "# Process first location. Add a for-loop for multiple locations or weather models\n",
        "response = responses[0]\n",
        "print(f\"Coordinates {response.Latitude()}°N {response.Longitude()}°E\")\n",
        "print(f\"Elevation {response.Elevation()} m asl\")\n",
        "print(f\"Timezone {response.Timezone()} {response.TimezoneAbbreviation()}\")\n",
        "print(f\"Timezone difference to GMT+0 {response.UtcOffsetSeconds()} s\")\n",
        "\n",
        "# Process hourly data. The order of variables needs to be the same as requested.\n",
        "hourly = response.Hourly()\n",
        "hourly_temperature_2m = hourly.Variables(0).ValuesAsNumpy()\n",
        "\n",
        "hourly_data = {\"date\": pd.date_range(\n",
        "\tstart = pd.to_datetime(hourly.Time(), unit = \"s\", utc = True),\n",
        "\tend = pd.to_datetime(hourly.TimeEnd(), unit = \"s\", utc = True),\n",
        "\tfreq = pd.Timedelta(seconds = hourly.Interval()),\n",
        "\tinclusive = \"left\"\n",
        ")}\n",
        "hourly_data[\"temperature_2m\"] = hourly_temperature_2m\n",
        "\n",
        "hourly_dataframe = pd.DataFrame(data=hourly_data)\n",
        "\n",
        "# Save the DataFrame to a CSV file\n",
        "file_path = '/content/historical_weather_data.csv'\n",
        "hourly_dataframe.to_csv(file_path, index=False)  # Corrected 'df' to 'hourly_dataframe'\n",
        "\n",
        "# Print the DataFrame to verify its content\n",
        "print(hourly_dataframe)\n"
      ]
    },
    {
      "cell_type": "code",
      "execution_count": null,
      "metadata": {
        "id": "oIvd9jaxt-p9"
      },
      "outputs": [],
      "source": [
        "import pandas as pd\n",
        "\n",
        "# Load the two datasets\n",
        "weather_df = pd.read_csv(\"/content/historical_weather_data.csv\")  # Weather dataset with 'date' and 'temperature_2m'\n",
        "citibike_df = pd.read_csv(\"/content/filtered_citibike_data_june_september.csv\")  # Citibike dataset\n",
        "\n",
        "# Step 1: Ensure the date columns are in the same format (datetime)\n",
        "weather_df['date'] = pd.to_datetime(weather_df['date']).dt.date  # Convert to datetime and then extract only the date part\n",
        "citibike_df['started_date'] = pd.to_datetime(citibike_df['started_date']).dt.date  # Convert to datetime and extract date part\n",
        "\n",
        "# Step 2: Merge the datasets on 'date' and 'started_date'\n",
        "# This will merge on the date and add the 'temperature_2m' column from the weather dataset to the citibike dataset\n",
        "merged_df = pd.merge(citibike_df, weather_df, left_on='started_date', right_on='date', how='left')\n",
        "\n",
        "# Step 3: Drop the redundant 'date' column from the merged DataFrame (optional)\n",
        "merged_df.drop(columns=['date'], inplace=True)\n",
        "\n",
        "# Step 4: Save the merged DataFrame to a CSV file\n",
        "output_file_path = \"/content/merged_citibike_weather_data.csv\"\n",
        "merged_df.to_csv(output_file_path, index=False)\n",
        "\n",
        "# Print the merged DataFrame to check the result\n",
        "print(merged_df.head())\n"
      ]
    },
    {
      "cell_type": "code",
      "execution_count": null,
      "metadata": {
        "id": "pzGrBsryCWze"
      },
      "outputs": [],
      "source": [
        "df.head()"
      ]
    },
    {
      "cell_type": "code",
      "execution_count": null,
      "metadata": {
        "id": "KwyoBivA-VlX"
      },
      "outputs": [],
      "source": [
        "# Load the dataset\n",
        "df = pd.read_csv(\"/content/merged_citibike_weather_data.csv\")\n",
        "\n",
        "# Convert temperature_2m from Celsius to Fahrenheit\n",
        "df['temperature_2m'] = (df['temperature_2m'] * 9/5) + 32\n",
        "\n",
        "df.rename(columns={'temperature_2m': 'Temperature(F)'}, inplace=True)\n",
        "\n",
        "# Save the modified DataFrame back to the same CSV file\n",
        "df.to_csv(\"/content/merged_citibike_weather_data.csv\", index=False)\n",
        "\n",
        "# Display the first few rows to verify the conversion\n",
        "print(df[['Temperature(F)']].head())\n"
      ]
    },
    {
      "cell_type": "markdown",
      "metadata": {
        "id": "gmF7Jd726jD3"
      },
      "source": [
        "# **DATA ANALYSIS**"
      ]
    },
    {
      "cell_type": "code",
      "execution_count": null,
      "metadata": {
        "id": "40UEAAKr6L_U"
      },
      "outputs": [],
      "source": [
        "df = pd.read_csv(\"/content/merged_citibike_weather_data.csv\")\n",
        "# Generate summary statistics for the DataFrame\n",
        "summary_stat = df.describe()\n",
        "print(summary_stat)"
      ]
    },
    {
      "cell_type": "code",
      "execution_count": null,
      "metadata": {
        "id": "pXdLKMGH76O_"
      },
      "outputs": [],
      "source": [
        "# Display the distinct classes\n",
        "df.nunique()"
      ]
    },
    {
      "cell_type": "code",
      "execution_count": null,
      "metadata": {
        "id": "pV4D-nNT8ANP"
      },
      "outputs": [],
      "source": [
        "# Display the distribution counts for each class\n",
        "#df.count()\n",
        "df.value_counts()"
      ]
    },
    {
      "cell_type": "code",
      "execution_count": null,
      "metadata": {
        "id": "WKqUYnrL8Gox"
      },
      "outputs": [],
      "source": [
        "print(df.columns)"
      ]
    },
    {
      "cell_type": "code",
      "execution_count": null,
      "metadata": {
        "id": "ZY7CPluBRkHi"
      },
      "outputs": [],
      "source": [
        "\n",
        "df.columns = df.columns.str.strip()\n",
        "\n",
        "# Optional: Rename columns for consistency (if needed)\n",
        "df.columns = df.columns.str.lower().str.replace(' ', '_')\n",
        "df.rename(columns={'start_station_name': 'start_station_address'}, inplace=True)\n",
        "df.rename(columns={'end_station_name': 'end_station_address'}, inplace=True)\n",
        "\n",
        "# Save the cleaned dataset back to the CSV\n",
        "df.to_csv(\"/content/merged_citibike_weather_data.csv\", index=False)\n"
      ]
    },
    {
      "cell_type": "code",
      "execution_count": null,
      "metadata": {
        "id": "twbqb5xFSm-V"
      },
      "outputs": [],
      "source": [
        "df.head()"
      ]
    },
    {
      "cell_type": "markdown",
      "metadata": {
        "id": "M2NusyjhIVEt"
      },
      "source": [
        "# Trip Duration Prediction (Model Setup)"
      ]
    },
    {
      "cell_type": "code",
      "execution_count": null,
      "metadata": {
        "id": "AKri7dYpXVNI"
      },
      "outputs": [],
      "source": [
        "import pandas as pd\n",
        "from sklearn.model_selection import train_test_split\n",
        "from sklearn.ensemble import RandomForestRegressor\n",
        "from sklearn.preprocessing import OneHotEncoder"
      ]
    },
    {
      "cell_type": "code",
      "execution_count": null,
      "metadata": {
        "id": "B18_DYur2aGp"
      },
      "outputs": [],
      "source": [
        "import pandas as pd\n",
        "\n",
        "# Attempt to read the CSV file and inspect the first few rows to verify successful import\n",
        "try:\n",
        "    df = pd.read_csv(\"/content/merged_citibike_weather_data.csv\")\n",
        "    print(\"Data loaded successfully. First few rows:\")\n",
        "    print(df.head())\n",
        "except FileNotFoundError:\n",
        "    print(\"File not found. Please check the file path.\")\n"
      ]
    },
    {
      "cell_type": "code",
      "execution_count": null,
      "metadata": {
        "id": "HEFR-Gzs2fSp"
      },
      "outputs": [],
      "source": [
        "# Combine 'started_date' and 'started_time' into a single 'started_datetime' column\n",
        "df['started_datetime'] = pd.to_datetime(df['started_date'] + ' ' + df['started_time'], errors='coerce')\n",
        "print(\"Started datetime conversion done. Sample data:\")\n",
        "print(df[['started_date', 'started_time', 'started_datetime']].head())\n",
        "\n",
        "# Parse 'ended_date' as datetime\n",
        "df['ended_datetime'] = pd.to_datetime(df['ended_date'], errors='coerce')\n",
        "print(\"Ended datetime conversion done. Sample data:\")\n",
        "print(df[['ended_date', 'ended_datetime']].head())"
      ]
    },
    {
      "cell_type": "code",
      "execution_count": null,
      "metadata": {
        "id": "dwvMwugz2iqW"
      },
      "outputs": [],
      "source": [
        "# Calculate trip duration in minutes\n",
        "df['trip_duration'] = (df['ended_datetime'] - df['started_datetime']).dt.total_seconds() / 60\n",
        "print(\"Trip duration calculated. Sample data:\")\n",
        "print(df[['started_datetime', 'ended_datetime', 'trip_duration']].head())\n"
      ]
    },
    {
      "cell_type": "code",
      "execution_count": null,
      "metadata": {
        "id": "m_D6G6102lg5"
      },
      "outputs": [],
      "source": [
        "# Drop rows with null values in the necessary columns\n",
        "initial_row_count = len(df)\n",
        "df = df.dropna(subset=['trip_duration', 'started_datetime', 'ended_datetime'])\n",
        "print(f\"Rows before dropping NaN values: {initial_row_count}, after dropping: {len(df)}\")\n"
      ]
    },
    {
      "cell_type": "code",
      "execution_count": null,
      "metadata": {
        "id": "ptaeAIde2oUg"
      },
      "outputs": [],
      "source": [
        "# Debugging - Check columns before saving\n",
        "print(\"Columns in DataFrame before saving:\", df.columns)\n",
        "\n",
        "# Save the processed DataFrame\n",
        "df.to_csv(\"/content/trip_duration_prediction_data.csv\", index=False)\n",
        "print(\"Data saved successfully.\")\n"
      ]
    },
    {
      "cell_type": "code",
      "execution_count": null,
      "metadata": {
        "id": "G4uxzYZGyQzt"
      },
      "outputs": [],
      "source": [
        "df.head()"
      ]
    },
    {
      "cell_type": "code",
      "execution_count": null,
      "metadata": {
        "id": "PHkX07IGkj67"
      },
      "outputs": [],
      "source": [
        "# Ensure all columns are preserved\n",
        "print(\"Columns before saving:\", df.columns)\n",
        "\n",
        "# Save all columns that still exist in df\n",
        "df.to_csv(\"/content/trip_duration_prediction_data.csv\", index=False)"
      ]
    },
    {
      "cell_type": "code",
      "execution_count": null,
      "metadata": {
        "id": "9RVk30x6cEcZ"
      },
      "outputs": [],
      "source": [
        "df.head()"
      ]
    },
    {
      "cell_type": "code",
      "execution_count": null,
      "metadata": {
        "id": "8QIpaIRBJLTR"
      },
      "outputs": [],
      "source": [
        "import pandas as pd\n",
        "\n",
        "# Load the processed file from the earlier steps\n",
        "df = pd.read_csv(\"/content/trip_duration_prediction_data.csv\")\n",
        "\n",
        "# Step 4: Selecting Relevant Columns for Features\n",
        "features = ['start_station_address', 'end_station_address', 'started_datetime', 'member_casual']\n",
        "X = df[features]\n",
        "\n",
        "# Step 5: Define the target variable (trip duration)\n",
        "y = df['trip_duration']\n",
        "\n",
        "# Save the data with selected features and target variable\n",
        "X.to_csv(\"/content/trip_duration_prediction_data.csv\", index=False)\n",
        "print(\"Data with selected features saved after Step 4 and 5.\")\n"
      ]
    },
    {
      "cell_type": "code",
      "execution_count": null,
      "metadata": {
        "id": "PrkcqqageUT2"
      },
      "outputs": [],
      "source": [
        "X.head()"
      ]
    },
    {
      "cell_type": "code",
      "execution_count": null,
      "metadata": {
        "id": "vG8mFD-_ef0E"
      },
      "outputs": [],
      "source": [
        "y.head()"
      ]
    },
    {
      "cell_type": "code",
      "execution_count": null,
      "metadata": {
        "id": "P5imiNfnJQuc"
      },
      "outputs": [],
      "source": [
        "import pandas as pd\n",
        "from sklearn.preprocessing import OneHotEncoder\n",
        "\n",
        "# Load the selected features from the previous step\n",
        "X = pd.read_csv(\"/content/trip_duration_prediction_data.csv\")\n",
        "\n",
        "# Step 6: Check for missing or incorrectly named columns\n",
        "required_columns = ['start_station_address', 'end_station_address', 'member_casual']\n",
        "if not all(col in X.columns for col in required_columns):\n",
        "    missing_cols = [col for col in required_columns if col not in X.columns]\n",
        "    raise ValueError(f\"Missing columns in the data: {missing_cols}\")\n",
        "\n",
        "# Step 6: One-Hot Encode categorical columns (start_station_address, end_station_address, member_casual)\n",
        "# Check for missing or NaN values in categorical columns before encoding\n",
        "X = X.dropna(subset=required_columns)\n",
        "\n",
        "encoder = OneHotEncoder(handle_unknown='ignore', sparse_output=False)\n",
        "\n",
        "# Perform one-hot encoding\n",
        "X_encoded_categorical = pd.DataFrame(encoder.fit_transform(X[required_columns]))\n",
        "\n",
        "# One-hot encoding removes column names, so we need to reset them\n",
        "X_encoded_categorical.columns = encoder.get_feature_names_out(required_columns)\n",
        "\n",
        "# Save the one-hot encoded categorical data\n",
        "X_encoded_categorical.to_csv(\"/content/encoded_trip_duration_prediction_data.csv\", index=False)\n",
        "\n",
        "print(\"Categorical features encoded and saved after Step 6.\")\n"
      ]
    },
    {
      "cell_type": "code",
      "execution_count": null,
      "metadata": {
        "id": "5cqNKNekJRm7"
      },
      "outputs": [],
      "source": [
        "# Load the selected features (including started_datetime)\n",
        "X = pd.read_csv(\"/content/trip_duration_prediction_data.csv\")\n",
        "\n",
        "# Convert started_datetime to an integer Unix timestamp\n",
        "X['started_datetime'] = pd.to_datetime(X['started_datetime']).astype('int64') // 10**9  # Convert to Unix timestamp (seconds)\n",
        "\n",
        "# Save the converted datetime data\n",
        "X[['started_datetime']].to_csv(\"/content/trip_duration_prediction_data.csv\", index=False)\n",
        "print(\"Datetime converted and saved after Step 6.\")\n"
      ]
    },
    {
      "cell_type": "code",
      "execution_count": null,
      "metadata": {
        "id": "aNkpHjJNJUcL"
      },
      "outputs": [],
      "source": [
        "# Load the encoded categorical data and the encoded datetime data\n",
        "X_encoded_categorical = pd.read_csv(\"/content/trip_duration_prediction_data.csv\")\n",
        "X_datetime = pd.read_csv(\"/content/trip_duration_prediction_data.csv\")\n",
        "\n",
        "# Combine the one-hot encoded categorical features and the datetime feature\n",
        "X_final = pd.concat([X_encoded_categorical, X_datetime], axis=1)\n",
        "\n",
        "# Save the final processed data\n",
        "X_final.to_csv(\"/content/trip_duration_prediction_data.csv\", index=False)\n",
        "print(\"Final processed data saved after Step 6.\")\n"
      ]
    },
    {
      "cell_type": "code",
      "execution_count": null,
      "metadata": {
        "id": "KDOKIknTJXJj"
      },
      "outputs": [],
      "source": [
        "from sklearn.model_selection import train_test_split\n",
        "from sklearn.ensemble import RandomForestRegressor\n",
        "\n",
        "# Load the final processed features\n",
        "X_final = pd.read_csv(\"/content/trip_duration_prediction_data.csv\")\n",
        "\n",
        "# Load the target variable (trip_duration)\n",
        "y = pd.read_csv(\"/content/trip_duration_prediction_data.csv\")['trip_duration']\n",
        "\n",
        "# Step 7: Train-test split\n",
        "X_train, X_test, y_train, y_test = train_test_split(X_final, y, test_size=0.3, random_state=42)\n",
        "\n",
        "# Step 8: Train a Random Forest Regressor model\n",
        "model = RandomForestRegressor()\n",
        "model.fit(X_train, y_train)\n",
        "\n",
        "# Step 9: Make predictions on the test set\n",
        "y_pred = model.predict(X_test)\n",
        "\n",
        "# Save the predictions\n",
        "predictions_df = pd.DataFrame({'actual_duration': y_test, 'predicted_duration': y_pred})\n",
        "predictions_df.to_csv(\"/content/trip_duration_prediction_data.csv\", index=False)\n",
        "print(\"Model trained and predictions saved.\")\n"
      ]
    },
    {
      "cell_type": "code",
      "execution_count": null,
      "metadata": {
        "id": "j0mm_pO6XIwP"
      },
      "outputs": [],
      "source": [
        "df.head()"
      ]
    },
    {
      "cell_type": "code",
      "execution_count": null,
      "metadata": {
        "id": "D0m4BSNOAMTT"
      },
      "outputs": [],
      "source": [
        "# Load the encoded data\n",
        "X_encoded = pd.read_csv(\"/content/trip_duration_prediction_data.csv\")\n",
        "\n",
        "# Step 7: Train-test split\n",
        "X_train, X_test, y_train, y_test = train_test_split(X_encoded, y, test_size=0.3, random_state=42)\n",
        "\n",
        "# Step 8: Train a Random Forest Regressor model\n",
        "model = RandomForestRegressor()\n",
        "model.fit(X_train, y_train)\n",
        "\n",
        "# Step 9: Make predictions on the test set\n",
        "y_pred = model.predict(X_test)\n",
        "\n",
        "# Optionally save the model predictions\n",
        "predictions_df = pd.DataFrame({\n",
        "    'actual_duration': y_test,\n",
        "    'predicted_duration': y_pred\n",
        "})\n",
        "predictions_df.to_csv(\"/content/trip_duration_prediction_data.csv\", index=False)\n",
        "print(\"Model predictions saved.\")\n"
      ]
    },
    {
      "cell_type": "markdown",
      "metadata": {
        "id": "gXCISUmWGJWN"
      },
      "source": [
        "Haven't used these codes"
      ]
    },
    {
      "cell_type": "code",
      "execution_count": null,
      "metadata": {
        "id": "ENcWoMkV8GeU"
      },
      "outputs": [],
      "source": [
        "# Graph (i.e. bar graph) the distribution of the classes\n",
        "plt.figure(figsize=[6,4])\n",
        "sns.countplot(x='quality', data=df)\n",
        "plt.show()"
      ]
    },
    {
      "cell_type": "code",
      "execution_count": null,
      "metadata": {
        "id": "O_4oUlOK9DJJ"
      },
      "outputs": [],
      "source": [
        "# Display correlation matrix for all variables\n",
        "correlation_matrix = df.corr()\n",
        "correlation_matrix"
      ]
    },
    {
      "cell_type": "markdown",
      "metadata": {
        "id": "inRpqhVjICvV"
      },
      "source": [
        "# **Analyzing Impact of Weather on Ridership**"
      ]
    },
    {
      "cell_type": "code",
      "execution_count": null,
      "metadata": {
        "id": "O4RwMv1EIE8J"
      },
      "outputs": [],
      "source": [
        "# Group data by started_date to count the number of trips per day\n",
        "daily_ridership = df.groupby('started_date').size().reset_index(name='trip_count')\n",
        "\n",
        "# Merge with temperature data\n",
        "daily_ridership = daily_ridership.merge(df[['started_date', 'Temperature(F)']].drop_duplicates(), on='started_date', how='left')\n"
      ]
    },
    {
      "cell_type": "code",
      "execution_count": null,
      "metadata": {
        "id": "lGzSkyUzIHaf"
      },
      "outputs": [],
      "source": [
        "import matplotlib.pyplot as plt\n",
        "\n",
        "# Plot temperature vs ridership\n",
        "plt.scatter(daily_ridership['Temperature(F)'], daily_ridership['trip_count'])\n",
        "plt.xlabel('Temperature (F)')\n",
        "plt.ylabel('Number of Trips')\n",
        "plt.title('Impact of Temperature on Ridership')\n",
        "plt.show()\n"
      ]
    },
    {
      "cell_type": "code",
      "execution_count": null,
      "metadata": {
        "id": "GW004ZKdIJOL"
      },
      "outputs": [],
      "source": [
        "# Create a daily dataset to predict the number of trips\n",
        "daily_data = df.groupby('started_date').agg({\n",
        "    'Temperature(F)': 'mean',\n",
        "    'member_casual': 'count'  # Counting the number of trips\n",
        "}).reset_index()\n",
        "\n",
        "# Rename the count column to trip_count\n",
        "daily_data.rename(columns={'member_casual': 'trip_count'}, inplace=True)\n",
        "\n",
        "# X: Features (you could add more features like day of week)\n",
        "X = daily_data[['Temperature(F)']]\n",
        "y = daily_data['trip_count']\n",
        "\n",
        "# Now you can train a model to predict ridership based on temperature\n"
      ]
    }
  ],
  "metadata": {
    "colab": {
      "provenance": []
    },
    "kernelspec": {
      "display_name": "Python 3",
      "name": "python3"
    },
    "language_info": {
      "name": "python"
    }
  },
  "nbformat": 4,
  "nbformat_minor": 0
}